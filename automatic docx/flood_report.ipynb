{
 "cells": [
  {
   "cell_type": "markdown",
   "metadata": {},
   "source": [
    "# Automatic Dinagua's Flood Report"
   ]
  },
  {
   "cell_type": "code",
   "execution_count": 1,
   "metadata": {},
   "outputs": [],
   "source": [
    "from docxtpl import DocxTemplate, InlineImage\n",
    "from docx.shared import Cm, Inches, Mm, Emu\n",
    "import xlwings as xw\n",
    "from jinja2 import Environment, BaseLoader\n",
    "import locale"
   ]
  },
  {
   "cell_type": "code",
   "execution_count": 2,
   "metadata": {},
   "outputs": [
    {
     "data": {
      "text/plain": [
       "'es_ES.UTF-8'"
      ]
     },
     "execution_count": 2,
     "metadata": {},
     "output_type": "execute_result"
    }
   ],
   "source": [
    "# Configura la configuración regional para español\n",
    "locale.setlocale(locale.LC_TIME, 'es_ES.UTF-8')"
   ]
  },
  {
   "cell_type": "code",
   "execution_count": 3,
   "metadata": {},
   "outputs": [],
   "source": [
    "excel_file = 'database_report.xlsx' \n",
    "template_file = 'doc_master.docx'"
   ]
  },
  {
   "cell_type": "code",
   "execution_count": 4,
   "metadata": {},
   "outputs": [],
   "source": [
    "doc = DocxTemplate(template_file)"
   ]
  },
  {
   "cell_type": "code",
   "execution_count": 5,
   "metadata": {},
   "outputs": [],
   "source": [
    "# Open the excel file using xlwings\n",
    "wb = xw.Book(excel_file)\n",
    "# select the excel sheet that contains the data\n",
    "sheet = wb.sheets['INICIO']\n",
    "# From the Excel Sheet select the cell range \n",
    "# context = sheet.range('B2').options(dict,expand='table',numbers=float).value\n",
    "entero = int(sheet.range('C2').value)\n",
    "fecha_emision = sheet.range('C3').value\n",
    "fecha_ayer = sheet.range('C4').value\n",
    "fecha_anteayer = sheet.range('C5').value\n",
    "fecha_pronos1 = sheet.range('C6').value\n",
    "fecha_pronos2 = sheet.range('C7').value\n",
    "fecha_pronos3 = sheet.range('C8').value\n",
    "titulo = sheet.range('C9').value\n"
   ]
  },
  {
   "cell_type": "code",
   "execution_count": 6,
   "metadata": {},
   "outputs": [],
   "source": [
    "# Ajusta el formato de las fechas\n",
    "fecha_emision = fecha_emision.strftime('%A, %d de %B de %Y').encode('latin-1').decode('utf-8')\n",
    "fecha_ayer = fecha_ayer.strftime('%A, %d de %B de %Y').encode('latin-1').decode('utf-8')\n",
    "fecha_anteayer = fecha_anteayer.strftime('%A, %d de %B de %Y').encode('latin-1').decode('utf-8')\n",
    "\n",
    "fecha_pronos1 = fecha_pronos1.strftime('%A, %d de %B de %Y').encode('latin-1').decode('utf-8')\n",
    "fecha_pronos2 = fecha_pronos2.strftime('%A, %d de %B de %Y').encode('latin-1').decode('utf-8')\n",
    "fecha_pronos3 = fecha_pronos3.strftime('%A, %d de %B de %Y').encode('latin-1').decode('utf-8')"
   ]
  },
  {
   "cell_type": "code",
   "execution_count": 7,
   "metadata": {},
   "outputs": [],
   "source": [
    "# Río Yí\n",
    "sheet_yi = wb.sheets['YI']\n",
    "context_yi = sheet_yi.range('B2').options(dict,expand='table',numbers=float).value\n",
    "# Río Cuareim\n",
    "sheet_cuareim = wb.sheets['CUAREIM']\n",
    "context_cuareim = sheet_cuareim.range('B2').options(dict,expand='table',numbers=float).value\n",
    "# Río Santa Lucia\n",
    "sheet_lucia = wb.sheets['SANTALUCIA']\n",
    "context_lucia = sheet_lucia.range('B2').options(dict,expand='table',numbers=float).value\n",
    "# Río Uruguay\n",
    "sheet_uy = wb.sheets['URUGUAY']\n",
    "context_uy = sheet_uy.range('B2').options(dict,expand='table',numbers=float).value\n",
    "# Río Negro\n",
    "sheet_negro = wb.sheets['NEGRO']\n",
    "context_negro = sheet_negro.range('B2').options(dict,expand='table',numbers=float).value"
   ]
  },
  {
   "cell_type": "code",
   "execution_count": 8,
   "metadata": {},
   "outputs": [
    {
     "name": "stdout",
     "output_type": "stream",
     "text": [
      "{'numero_id': 5, 'fecha_emision': 'martes, 20 de febrero de 2024', 'fecha_48': 'lunes, 19 de febrero de 2024', 'fecha_72': 'domingo, 18 de febrero de 2024', 'fecha_pronos_24': 'miércoles, 21 de febrero de 2024', 'fecha_pronos_48': 'jueves, 22 de febrero de 2024', 'fecha_pronos_72': 'viernes, 23 de febrero de 2024', 'titulo': 'Se registra incrementos del río Cuareim en Artigas con baja posibilidad de afectar la zona del paseo 7 de setiembre', 'nivel_actual_sarandi': 1.17, 'nivel_pasado_sarandi': 1.17, 'tasa_sarandi': 0.0, 'tendencia_sarandi': 'Permanece', 'nivel_actual_polanco': 2.05, 'nivel_pasado_polanco': 2.05, 'nivel_pico_anterior_polanco': '-', 'tasa_polanco': 0.0, 'tendencia_polanco': 'Permanece', 'nivel_actual_viejo': 0.26, 'nivel_pasado_viejo': 0.26, 'nivel_pico_anterior_viejo': 2.3, 'tasa_viejo': 0.0, 'tendencia_viejo': 'Permanece', 'nivel_actual_nuevo': None, 'nivel_pasado_nuevo': None, 'nivel_pico_anterior_catalan': '-', 'tasa_nuevo': 0.0, 'tendencia_nuevo': 'Permanece', 'pobs_24_yi': 45.7, 'pobs_48_yi': 2.0, 'pobs_72_yi': 0.0, 'psim_24_yi': 0.0, 'psim_48_yi': 4.3, 'psim_72_yi': 0.0, 'pronos_sarandi': 'Menor a 2.0 m', 'fecha_sarandi': '17 - 18 Enero', 'pronos_polanco': 'Menor a 3.5 m', 'fecha_polanco': '18 - 20 Enero', 'pronos_viejo': 'Menor a 5.0 m', 'fecha_viejo': '19 - 21 Enero', 'pronos_nuevo': 'Menor a 5.9 m', 'fecha_nuevo': '19 - 21 Enero', 'diagnostico_yi': 'En las últimas horas se registraron acumulados de precipitación moderados en la cuenca del río Yí, donde en las últimas 24 horas se acumularon 45.7 mm. Actualmente, el nivel del río Yí se mantiene constante en la ciudad de Durazno.  Considerando las lluvias pronosticadas y los niveles registrados en las estaciones de monitoreo, existe la posibilidad de nuevos incrementos de nivel en los próximos días, con una baja probabilidad de generarse afectaciones a vivienda en la ciudad de Durazno. ', 'recomendacion_yi': 'Estar atentos a posibles inundaciones locales en ', 'nivel_actual_catalan': 4.69, 'nivel_pasado_catalan': 4.71, 'tasa_catalan': None, 'tendencia_catalan': 'Baja', 'nivel_actual_cuareim': 6.98, 'nivel_pasado_cuareim': 7.21, 'nivel_pico_anterior_cuareim': '-', 'tasa_cuareim': None, 'tendencia_cuareim': 'Baja', 'nivel_actual_artigas': 7.25, 'nivel_pasado_artigas': 7.21, 'nivel_pico_anterior_artigas': '-', 'tasa_artigas': 4.0, 'tendencia_artigas': 'Sube', 'pobs_24_cuareim': 10.0, 'pobs_48_cuareim': 49.5, 'pobs_72_cuareim': 0.1, 'psim_24_cuareim': 0.0, 'psim_48_cuareim': 0.0, 'psim_72_cuareim': 0.0, 'pronos_catalan': None, 'fecha_catalan': None, 'pronos_cuareim': None, 'fecha_cuareim': None, 'pronos_artigas': 'Entre 7.40 a 7.65 m', 'fecha_artigas': '18 - 19 Enero', 'diagnostico_cuareim': 'En las últimas horas se registraron acumulados de precipitación moderados en la cuenca del río Cuareim, donde en las últimas 72 horas se acumularon 59.6 mm y con un máximo de 49.5 mm/día. Actualmente, el nivel del río Cuareim está en ascenso en la ciudad de Artigas.  Considerando las lluvias pronosticadas y los niveles registrados en las estaciones de monitoreo, existe la posibilidad de nuevos incrementos de nivel en los próximos días.  ', 'recomendacion_cuareim': 'Estar atentos a posibles inundaciones locales en la zona del paseo 7 de setiembre. ', 'nivel_actual_fmarcos': 6.1, 'nivel_pasado_fmarcos': 6.1, 'nivel_pico_anterior_fmarcos': '-', 'tasa_fmarcos': 0.0, 'tendencia_fmarcos': 'Permanece', 'nivel_actual_pache': 5.4, 'nivel_pasado_pache': 5.2, 'nivel_pico_anterior_pache': '-', 'tasa_pache': 20.0, 'tendencia_pache': 'Sube', 'nivel_actual_varela': 5.4, 'nivel_pasado_varela': 5.2, 'nivel_pico_anterior_varela': '-', 'tasa_varela': 20.0, 'tendencia_varela': 'Sube', 'nivel_actual_lucia': 2.1, 'nivel_pasado_lucia': 1.9, 'nivel_pico_anterior_lucia': 8.0, 'tasa_lucia': 20.0, 'tendencia_lucia': 'Sube', 'nivel_actual_florida': '-', 'nivel_pasado_florida': '-', 'nivel_pico_anterior_florida': '-', 'tasa_florida': '-', 'tendencia_florida': '-', 'pobs_24_santalucia': 35.0, 'pobs_48_santalucia': 35.0, 'pobs_72_santalucia': 35.0, 'psim_24_santalucia': 30.0, 'psim_48_santalucia': 80.0, 'psim_72_santalucia': 65.0, 'pronos_fraymarcos': 7.2, 'fecha_fraymarcos': '29 - 30 oct', 'pronos_pache': 8.9, 'fecha_pache': '29 - 30 oct', 'pronos_varela': 8.9, 'fecha_varela': '29 - 30 oct', 'pronos_santalucia': 7.2, 'fecha_santalucia': '29 - 30 oct', 'pronos_florida': 'Entre 8.5 a 9.5 m', 'fecha_florida': '29 - 30 oct', 'diagnostico_santalucia': 'En las últimas horas se registraron acumulados de precipitación moderados en la cuenca del río Santa Lucía, donde en las últimas 72 horas se acumularon 105 mm y con un máximo de 35 mm/día. Actualmente, el nivel del río Santa Lucía está en ascenso en la ciudad de Santa Lucía.  Considerando las lluvias pronosticadas y los niveles registrados en las estaciones de monitoreo, existe la posibilidad de nuevos incrementos de nivel en los próximos días.  Existe una baja probabilidad de que el nivel supere al máximo registrado los días anteriores (8 metros), pero no se puede descartar en su totalidad.', 'recomendacion_santalucia': 'Mantener el monitoreo hidrológico reforzado en la zona y estar atento a las actualizaciones de pronósticos del tiempo para los próximos días. ', 'nivel_actual_libres': 11.34, 'nivel_pasado_libres': 11.34, 'nivel_pico_anterior_libres': '-', 'tasa_libres': 0.0, 'tendencia_libres': 'Permanece', 'nivel_actual_bella': 8.97, 'nivel_pasado_bella': 8.95, 'nivel_pico_anterior_bella': '-', 'tasa_bella': 2.0, 'tendencia_bella': 'Sube', 'nivel_actual_salto': 13.77, 'nivel_pasado_salto': 13.77, 'nivel_pico_anterior_salto': '-', 'tasa_salto': 0.0, 'tendencia_salto': 'Permanece', 'nivel_actual_ps': 7.22, 'nivel_pasado_ps': 7.21, 'nivel_pico_anterior_ps': 5.0, 'tasa_ps': 1.0, 'tendencia_ps': 'Sube', 'nivel_actual_bentos': 2.89, 'nivel_pasado_bentos': 2.89, 'nivel_pico_anterior_bentos': '-', 'tasa_bentos': 0.0, 'tendencia_bentos': 'Permanece', 'pobs_24_uruguay': 0.0, 'pobs_48_uruguay': 0.0, 'pobs_72_uruguay': 0.0, 'q_erogado_ctm': '24,000 y 25,000', 'pronos_bellaunion': 'Entre 8.90 a 9.10', 'fecha_bellaunion': '28 - 29 oct', 'pronos_salto': 'Entre 14.00 y 14.20', 'fecha_salto': '28 - 29 oct', 'pronos_paysandu': 'Entre 7.30 a 7.70', 'fecha_paysandu': '28 - 29 oct', 'pronos_fraybentos': 3.4, 'fecha_fraybentos': '28 - 29 oct', 'diagnostico_uruguay': 'En las últimas horas se registraron bajos acumulados de precipitación en la cuenca del río Uruguay, donde en las últimas 72 horas se acumularon 0 mm y con un máximo de 0 mm/día. Actualmente, el nivel del río Uruguay está en ascenso en las ciudades de Bella Unión Paysandú; se mantiene constante en las ciudades de Salto Fray Bentos. está en descenso en la ciudad de . Considerando las lluvias pronosticadas y los niveles registrados en las estaciones de monitoreo, existe la posibilidad de nuevos incrementos de nivel en los próximos días.  Existe una alta probabilidad de que el nivel supere al máximo registrado los días anteriores (5m en Paysandú ).', 'recomendacion_uruguay': 'Mantener el monitoreo hidrológico reforzado en la zona y estar atento a las actualizaciones de pronósticos del tiempo para los próximos días. ', 'nivel_actual_gregorio': 6.1, 'nivel_pasado_gregorio': 6.1, 'nivel_pico_anterior_gregorio': '-', 'tasa_gregorio': 0.0, 'tendencia_gregorio': 'Permanece', 'nivel_actual_mercedes': 5.4, 'nivel_pasado_mercedes': 5.2, 'nivel_pico_anterior_mercedes': '-', 'tasa_mercedes': 20.0, 'tendencia_mercedes': 'Sube', 'pobs_24_negro': 70.0, 'pobs_48_negro': 70.0, 'pobs_72_negro': 70.0, 'q_erogado_bonete': '9,000 a 10,000', 'q_erogado_palmar': '15,000 a 17,000', 'pronos_gregorio': 8.9, 'fecha_gregorio': '29 - 30 oct', 'pronos_mercedes': 7.2, 'fecha_mercedes': '29 - 30 oct', 'diagnostico_negro': 'En las últimas horas se registraron importantes acumulados de precipitación en la cuenca del Río Negro, donde en las últimas 72 horas se acumularon 210 mm y con un máximo de 70 mm/día. Actualmente, el nivel del Río Negro está en ascenso en la ciudad de Mercedes.  Considerando las lluvias pronosticadas y los niveles registrados en las estaciones de monitoreo, existe la posibilidad de nuevos incrementos de nivel en los próximos días.  ', 'recomendacion_negro': 'Estar atentos a los próximos eventos de lluvia que se registren en la cuenca.   '}\n"
     ]
    }
   ],
   "source": [
    "context = {\n",
    "    'numero_id': entero,\n",
    "    'fecha_emision': fecha_emision,\n",
    "    'fecha_48': fecha_ayer,\n",
    "    'fecha_72': fecha_anteayer,\n",
    "    'fecha_pronos_24': fecha_pronos1,\n",
    "    'fecha_pronos_48': fecha_pronos2,\n",
    "    'fecha_pronos_72': fecha_pronos3,\n",
    "    'titulo': titulo\n",
    "    }\n",
    "context.update(context_yi)\n",
    "context.update(context_cuareim)\n",
    "context.update(context_lucia)\n",
    "context.update(context_uy)\n",
    "context.update(context_negro)\n",
    "print(context)"
   ]
  },
  {
   "cell_type": "code",
   "execution_count": 9,
   "metadata": {},
   "outputs": [],
   "source": [
    "doc.replace_pic('Placeholder.png','Imagenes/pronostico_hidro.png')\n",
    "doc.replace_pic('Placeholder_1.png','Imagenes/output_3.png')\n",
    "doc.replace_pic('Placeholder_2.png','Imagenes/output_1.png')\n",
    "doc.replace_pic('Placeholder_3.png','Imagenes/output_2.png')\n",
    "doc.replace_pic('Placeholder_4.png','Imagenes/output_5.png')\n",
    "doc.replace_pic('Placeholder_5.png','Imagenes/output_4.png')"
   ]
  },
  {
   "cell_type": "code",
   "execution_count": 10,
   "metadata": {},
   "outputs": [],
   "source": [
    "# Renderiza la plantilla con el formato adecuado\n",
    "env = Environment(loader=BaseLoader())\n",
    "env.filters['strftime'] = lambda dt, fmt: dt.strftime(fmt)\n",
    "doc.render(context, jinja_env=env)"
   ]
  },
  {
   "cell_type": "code",
   "execution_count": 11,
   "metadata": {},
   "outputs": [
    {
     "name": "stdout",
     "output_type": "stream",
     "text": [
      "Informe_Situacion_Pronostico_5.docx\n"
     ]
    }
   ],
   "source": [
    "output_file = f'Informe_Situacion_Pronostico_{entero}.docx'\n",
    "print(output_file)"
   ]
  },
  {
   "cell_type": "code",
   "execution_count": 12,
   "metadata": {},
   "outputs": [],
   "source": [
    "# Guarda el documento resultante\n",
    "doc.save(output_file)\n",
    "wb.close()"
   ]
  }
 ],
 "metadata": {
  "kernelspec": {
   "display_name": "floodreport",
   "language": "python",
   "name": "python3"
  },
  "language_info": {
   "codemirror_mode": {
    "name": "ipython",
    "version": 3
   },
   "file_extension": ".py",
   "mimetype": "text/x-python",
   "name": "python",
   "nbconvert_exporter": "python",
   "pygments_lexer": "ipython3",
   "version": "3.12.0"
  }
 },
 "nbformat": 4,
 "nbformat_minor": 2
}
