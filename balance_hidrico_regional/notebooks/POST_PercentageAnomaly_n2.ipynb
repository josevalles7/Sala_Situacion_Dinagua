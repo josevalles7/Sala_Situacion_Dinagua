{
 "cells": [
  {
   "attachments": {},
   "cell_type": "markdown",
   "metadata": {},
   "source": [
    "# Calculate the percentage of anomaly for a specific basin\n",
    "#### Jose Valles (jose.valles.leon@gmail.com)\n",
    "\n",
    "### Importing Libraries"
   ]
  },
  {
   "cell_type": "code",
   "execution_count": 72,
   "metadata": {},
   "outputs": [],
   "source": [
    "import pandas as pd\n",
    "import matplotlib.pyplot as plt\n",
    "import seaborn as sns\n",
    "plt.style.use('classic')\n",
    "import numpy as np\n",
    "import calendar\n",
    "\n",
    "sns.set()\n",
    "\n",
    "from IPython.display import HTML"
   ]
  },
  {
   "cell_type": "code",
   "execution_count": 73,
   "metadata": {},
   "outputs": [],
   "source": [
    "# Define the basin level 2 code \n",
    "codcuenca_n2 = 61\n",
    "# Define the variables\n",
    "# model_variable = 'Escorrentia'"
   ]
  },
  {
   "cell_type": "code",
   "execution_count": 74,
   "metadata": {},
   "outputs": [],
   "source": [
    "basin_level3 = pd.read_csv(f'../output_modelo/cuenca_nivel3.csv',usecols=lambda col: col.startswith(str(codcuenca_n2)))\n",
    "basin_level2 = pd.read_csv(f'../output_modelo/cuenca_nivel2.csv',usecols=lambda col: col.startswith(str(codcuenca_n2)))"
   ]
  },
  {
   "cell_type": "code",
   "execution_count": 75,
   "metadata": {},
   "outputs": [],
   "source": [
    "def importmodelvariable(codcuenca_n2,model_variable):\n",
    "    df = pd.read_csv(f'../output_modelo/{model_variable}.csv',usecols=lambda col: col.startswith((str(codcuenca_n2),'-1')))\n",
    "    df = df.rename(columns={'-1': 'year','-1.1':'month'})\n",
    "    df['date'] = pd.to_datetime(dict(year=df['year'],month=df['month'],day=1))\n",
    "    df = df.set_index('date')\n",
    "    df['days_in_month'] = df.index.days_in_month\n",
    "    return df\n",
    "\n",
    "def convertRunoff2Discharge(df_runoff):\n",
    "    df_runoff_selected = df_runoff.drop(['year','month','days_in_month'],axis=1)\n",
    "    df_discharge = pd.DataFrame(df_runoff_selected.values*1000*basin_level3.values,columns=df_runoff_selected.columns)\n",
    "    df_discharge['days_in_month'] = df_runoff['days_in_month'].values\n",
    "    df_discharge = df_discharge.loc[:, df_discharge.columns != 'days_in_month'].divide(df_discharge[\"days_in_month\"]*24*3600, axis=\"index\")\n",
    "    df_discharge['date'] = df_runoff.index.values\n",
    "    df_discharge = df_discharge.set_index('date')\n",
    "    df_discharge['year'] = df_runoff['year'].values\n",
    "    df_discharge['month'] = df_runoff['month'].values\n",
    "    return df_discharge\n",
    "\n",
    "def defineHydroSOScategory(VARIABLE_MENSUAL,VARIABLE_AVERAGE,VARIABLE):\n",
    "    # create empty columns in the dataframe\n",
    "    VARIABLE_MENSUAL['mean'] = np.nan\n",
    "    VARIABLE_MENSUAL['average_percentage'] = np.nan\n",
    "    VARIABLE_MENSUAL['rank_average'] = np.nan\n",
    "    VARIABLE_MENSUAL['non_missing'] = np.nan\n",
    "\n",
    "\n",
    "    for i in range(len(VARIABLE_MENSUAL)):\n",
    "        # Extract the current month \n",
    "        m = VARIABLE_MENSUAL.month[i]\n",
    "        # Extract the current year\n",
    "        y = VARIABLE_MENSUAL.year[i]\n",
    "        VARIABLE_MENSUAL.loc[VARIABLE_MENSUAL.eval('month==@m & year==@y'),'rank_average']  = VARIABLE_MENSUAL.query('month==@m')[VARIABLE].rank()\n",
    "        VARIABLE_MENSUAL.loc[VARIABLE_MENSUAL.eval('month==@m & year==@y'),'non_missing']  = VARIABLE_MENSUAL.query('month==@m')[VARIABLE].notnull().sum()\n",
    "        VARIABLE_MENSUAL.loc[VARIABLE_MENSUAL.eval('month==@m & year==@y'),'mean'] = VARIABLE_AVERAGE.query('month == @m')[VARIABLE].item()\n",
    "        VARIABLE_MENSUAL.loc[VARIABLE_MENSUAL.eval('month==@m & year==@y'),'average_percentage'] = (VARIABLE_MENSUAL[VARIABLE][i] - VARIABLE_AVERAGE.query('month == @m')[VARIABLE].item()) / VARIABLE_AVERAGE.query('month == @m')[VARIABLE].item()\n",
    "\n",
    "    VARIABLE_MENSUAL['percentile'] = VARIABLE_MENSUAL['rank_average']/(VARIABLE_MENSUAL['non_missing']+1)\n",
    "    criteria = [VARIABLE_MENSUAL['percentile'].between(0.87,1.00),\n",
    "            VARIABLE_MENSUAL['percentile'].between(0.72,0.87),\n",
    "            VARIABLE_MENSUAL['percentile'].between(0.28,0.72),\n",
    "            VARIABLE_MENSUAL['percentile'].between(0.13,0.28),\n",
    "            VARIABLE_MENSUAL['percentile'].between(0.00,0.13)]\n",
    "\n",
    "    values = ['High flow','Above normal','Normal range','Below normal','Low flow']\n",
    "\n",
    "    VARIABLE_MENSUAL['percentile_range'] = np.select(criteria,values,None)\n",
    "    return VARIABLE_MENSUAL"
   ]
  },
  {
   "cell_type": "code",
   "execution_count": 76,
   "metadata": {},
   "outputs": [],
   "source": [
    "hydrological_variable = ['Escorrentia_total','Escorrentia_sup','Escorrentia_sub','Pmedias','ETR','HumedadSuelo']\n",
    "\n",
    "for hydro in hydrological_variable:\n",
    "    if hydro == \"Escorrentia_total\":\n",
    "        RUNOFF_total = importmodelvariable(codcuenca_n2, hydro)\n",
    "    elif hydro == \"Pmedias\":\n",
    "        PRECIP = importmodelvariable(codcuenca_n2, hydro)\n",
    "    elif hydro == \"ETR\":\n",
    "        ETR = importmodelvariable(codcuenca_n2, hydro)\n",
    "    elif hydro == \"HumedadSuelo\":\n",
    "        SM = importmodelvariable(codcuenca_n2, hydro)\n",
    "    elif hydro == 'Escorrentia_sup':\n",
    "        RUNOFF_sup = importmodelvariable(codcuenca_n2, hydro)\n",
    "    elif hydro == 'Escorrentia_sub':\n",
    "        RUNOFF_sub = importmodelvariable(codcuenca_n2, hydro)"
   ]
  },
  {
   "cell_type": "code",
   "execution_count": null,
   "metadata": {},
   "outputs": [],
   "source": [
    "# # BORRAR\n",
    "\n",
    "# hydrological_variable = ['Escorrentia_total','Escorrentia_sup','Escorrentia_sub','Pmedias','ETR','HumedadSuelo']\n",
    "\n",
    "# for hydro in hydrological_variable:\n",
    "#     locals()[hydro] = importmodelvariable(codcuenca_n2,hydro)"
   ]
  },
  {
   "attachments": {},
   "cell_type": "markdown",
   "metadata": {},
   "source": [
    "### Importar datos de modelos"
   ]
  },
  {
   "attachments": {},
   "cell_type": "markdown",
   "metadata": {},
   "source": [
    "Importar datos de precipitación, escorrentia, humedad suelo y Evapotranspiración (potencial y actual)"
   ]
  },
  {
   "cell_type": "code",
   "execution_count": null,
   "metadata": {},
   "outputs": [],
   "source": [
    "# # BORRAR \n",
    "\n",
    "# # Escorrentia Total\n",
    "# RUNOFF_total = pd.read_csv('../output_modelo/Escorrentia_total.csv')\n",
    "# RUNOFF_total = RUNOFF_total.rename(columns={'-1': 'year','-1.1':'month'})\n",
    "# RUNOFF_total['date'] = pd.to_datetime(dict(year=RUNOFF_total['year'],month=RUNOFF_total['month'],day=1))\n",
    "# RUNOFF_total = RUNOFF_total.set_index('date')\n",
    "# RUNOFF_total['days_in_month'] = RUNOFF_total.index.days_in_month\n",
    "\n",
    "# # Escorrentia superficial\n",
    "# RUNOFF_sup = pd.read_csv('../output_modelo/Escorrentia_sup.csv')\n",
    "# RUNOFF_sup = RUNOFF_sup.rename(columns={'-1': 'year','-1.1':'month'})\n",
    "# RUNOFF_sup['date'] = pd.to_datetime(dict(year=RUNOFF_sup['year'],month=RUNOFF_sup['month'],day=1))\n",
    "# RUNOFF_sup = RUNOFF_sup.set_index('date')\n",
    "# RUNOFF_sup['days_in_month'] = RUNOFF_sup.index.days_in_month\n",
    "\n",
    "# # Precipitación\n",
    "# PRECIP = pd.read_csv('../output_modelo/Pmedias.csv')\n",
    "# PRECIP = PRECIP.rename(columns={'-1': 'year','-1.1':'month'})\n",
    "# PRECIP['date'] = pd.to_datetime(dict(year=PRECIP['year'],month=PRECIP['month'],day=1))\n",
    "\n",
    "# # Evapotranspiración Real\n",
    "# ETR = pd.read_csv('../output_modelo/ETR.csv')\n",
    "# ETR = ETR.rename(columns={'-1': 'year','-1.1':'month'})\n",
    "# ETR['date'] = pd.to_datetime(dict(year=ETR['year'],month=ETR['month'],day=1))\n",
    "\n",
    "# # Humedad Suelo \n",
    "# SM = pd.read_csv('../output_modelo/HumedadSuelo.csv')\n",
    "# SM = SM.rename(columns={'-1': 'year','-1.1':'month'})\n",
    "# SM['date'] = pd.to_datetime(dict(year=SM['year'],month=SM['month'],day=1))\n"
   ]
  },
  {
   "attachments": {},
   "cell_type": "markdown",
   "metadata": {},
   "source": [
    "Importar codigos de cuenca nivel 2 y 3"
   ]
  },
  {
   "cell_type": "code",
   "execution_count": 77,
   "metadata": {},
   "outputs": [],
   "source": [
    "BASIN_LEVEL3 = pd.read_csv(f'../output_modelo/cuenca_nivel3.csv',index_col=\"Codigo\")\n",
    "BASIN_LEVEL2 = pd.read_csv(f'../output_modelo/cuenca_nivel2.csv',index_col=\"Codigo\")"
   ]
  },
  {
   "cell_type": "code",
   "execution_count": 81,
   "metadata": {},
   "outputs": [
    {
     "data": {
      "text/html": [
       "<table border=\"1\" class=\"dataframe\">\n",
       "  <thead>\n",
       "    <tr style=\"text-align: right;\">\n",
       "      <th>year</th>\n",
       "      <th>month</th>\n",
       "      <th>610</th>\n",
       "      <th>611</th>\n",
       "      <th>612</th>\n",
       "      <th>613</th>\n",
       "      <th>615</th>\n",
       "      <th>616</th>\n",
       "      <th>618</th>\n",
       "      <th>days_in_month</th>\n",
       "    </tr>\n",
       "  </thead>\n",
       "  <tbody>\n",
       "    <tr>\n",
       "      <td>2022</td>\n",
       "      <td>12</td>\n",
       "      <td>3.4867</td>\n",
       "      <td>1.22200</td>\n",
       "      <td>0.224290</td>\n",
       "      <td>0.000797</td>\n",
       "      <td>0.351440</td>\n",
       "      <td>0.175640</td>\n",
       "      <td>0.105390</td>\n",
       "      <td>31</td>\n",
       "    </tr>\n",
       "    <tr>\n",
       "      <td>2023</td>\n",
       "      <td>1</td>\n",
       "      <td>1.2956</td>\n",
       "      <td>0.45406</td>\n",
       "      <td>0.083342</td>\n",
       "      <td>0.000296</td>\n",
       "      <td>0.130590</td>\n",
       "      <td>0.065264</td>\n",
       "      <td>0.039159</td>\n",
       "      <td>31</td>\n",
       "    </tr>\n",
       "    <tr>\n",
       "      <td>2023</td>\n",
       "      <td>2</td>\n",
       "      <td>0.4814</td>\n",
       "      <td>0.16872</td>\n",
       "      <td>0.030968</td>\n",
       "      <td>0.000110</td>\n",
       "      <td>0.048524</td>\n",
       "      <td>0.024250</td>\n",
       "      <td>0.014551</td>\n",
       "      <td>28</td>\n",
       "    </tr>\n",
       "    <tr>\n",
       "      <td>2023</td>\n",
       "      <td>3</td>\n",
       "      <td>12.3830</td>\n",
       "      <td>4.74530</td>\n",
       "      <td>2.294000</td>\n",
       "      <td>1.066400</td>\n",
       "      <td>0.077438</td>\n",
       "      <td>0.125920</td>\n",
       "      <td>0.005407</td>\n",
       "      <td>31</td>\n",
       "    </tr>\n",
       "    <tr>\n",
       "      <td>2023</td>\n",
       "      <td>4</td>\n",
       "      <td>7.2558</td>\n",
       "      <td>3.58160</td>\n",
       "      <td>1.949300</td>\n",
       "      <td>0.974470</td>\n",
       "      <td>0.064739</td>\n",
       "      <td>0.117100</td>\n",
       "      <td>0.002009</td>\n",
       "      <td>30</td>\n",
       "    </tr>\n",
       "    <tr>\n",
       "      <td>2023</td>\n",
       "      <td>5</td>\n",
       "      <td>2.6961</td>\n",
       "      <td>1.33080</td>\n",
       "      <td>0.724320</td>\n",
       "      <td>0.362090</td>\n",
       "      <td>0.024056</td>\n",
       "      <td>0.043511</td>\n",
       "      <td>0.000746</td>\n",
       "      <td>31</td>\n",
       "    </tr>\n",
       "  </tbody>\n",
       "</table>"
      ],
      "text/plain": [
       "<IPython.core.display.HTML object>"
      ]
     },
     "execution_count": 81,
     "metadata": {},
     "output_type": "execute_result"
    }
   ],
   "source": [
    "HTML(RUNOFF_total.tail(6).to_html(index=False))"
   ]
  },
  {
   "attachments": {},
   "cell_type": "markdown",
   "metadata": {},
   "source": [
    "### Convertir Escorrentia (mm/month) a Caudal (m3/s)"
   ]
  },
  {
   "cell_type": "code",
   "execution_count": 82,
   "metadata": {},
   "outputs": [],
   "source": [
    "DISCHARGE = convertRunoff2Discharge(RUNOFF_total)"
   ]
  },
  {
   "cell_type": "code",
   "execution_count": null,
   "metadata": {},
   "outputs": [],
   "source": [
    "# # Convertir datos de escorrentia a caudal\n",
    "# RUNOFF_SELECTION = RUNOFF_total.drop(['year','month','days_in_month'],axis=1)\n",
    "# DISCHARGE = pd.DataFrame(RUNOFF_SELECTION.values*1000*BASIN_LEVEL3.values,columns=RUNOFF_SELECTION.columns)\n",
    "# DISCHARGE['days_in_month'] = RUNOFF_sup['days_in_month'].values\n",
    "# DISCHARGE = DISCHARGE.loc[:, DISCHARGE.columns != 'days_in_month'].divide(DISCHARGE[\"days_in_month\"]*24*3600, axis=\"index\")\n",
    "# # Definir columns de date y año\n",
    "# DISCHARGE['date'] = RUNOFF_total.index.values\n",
    "# DISCHARGE = DISCHARGE.set_index('date')\n",
    "# DISCHARGE['year'] = RUNOFF_total['year'].values\n",
    "# DISCHARGE['month'] = RUNOFF_total['month'].values"
   ]
  },
  {
   "cell_type": "code",
   "execution_count": 83,
   "metadata": {},
   "outputs": [
    {
     "data": {
      "text/html": [
       "<table border=\"1\" class=\"dataframe\">\n",
       "  <thead>\n",
       "    <tr style=\"text-align: right;\">\n",
       "      <th></th>\n",
       "      <th>610</th>\n",
       "      <th>611</th>\n",
       "      <th>612</th>\n",
       "      <th>613</th>\n",
       "      <th>615</th>\n",
       "      <th>616</th>\n",
       "      <th>618</th>\n",
       "      <th>year</th>\n",
       "      <th>month</th>\n",
       "    </tr>\n",
       "    <tr>\n",
       "      <th>date</th>\n",
       "      <th></th>\n",
       "      <th></th>\n",
       "      <th></th>\n",
       "      <th></th>\n",
       "      <th></th>\n",
       "      <th></th>\n",
       "      <th></th>\n",
       "      <th></th>\n",
       "      <th></th>\n",
       "    </tr>\n",
       "  </thead>\n",
       "  <tbody>\n",
       "    <tr>\n",
       "      <th>2022-12-01</th>\n",
       "      <td>0.334559</td>\n",
       "      <td>0.212609</td>\n",
       "      <td>0.045052</td>\n",
       "      <td>0.000118</td>\n",
       "      <td>0.017976</td>\n",
       "      <td>0.045641</td>\n",
       "      <td>0.003148</td>\n",
       "      <td>2022</td>\n",
       "      <td>12</td>\n",
       "    </tr>\n",
       "    <tr>\n",
       "      <th>2023-01-01</th>\n",
       "      <td>0.124316</td>\n",
       "      <td>0.078999</td>\n",
       "      <td>0.016741</td>\n",
       "      <td>0.000044</td>\n",
       "      <td>0.006680</td>\n",
       "      <td>0.016959</td>\n",
       "      <td>0.001170</td>\n",
       "      <td>2023</td>\n",
       "      <td>1</td>\n",
       "    </tr>\n",
       "    <tr>\n",
       "      <th>2023-02-01</th>\n",
       "      <td>0.051141</td>\n",
       "      <td>0.032500</td>\n",
       "      <td>0.006887</td>\n",
       "      <td>0.000018</td>\n",
       "      <td>0.002748</td>\n",
       "      <td>0.006977</td>\n",
       "      <td>0.000481</td>\n",
       "      <td>2023</td>\n",
       "      <td>2</td>\n",
       "    </tr>\n",
       "    <tr>\n",
       "      <th>2023-03-01</th>\n",
       "      <td>1.188184</td>\n",
       "      <td>0.825608</td>\n",
       "      <td>0.460787</td>\n",
       "      <td>0.158065</td>\n",
       "      <td>0.003961</td>\n",
       "      <td>0.032721</td>\n",
       "      <td>0.000161</td>\n",
       "      <td>2023</td>\n",
       "      <td>3</td>\n",
       "    </tr>\n",
       "    <tr>\n",
       "      <th>2023-04-01</th>\n",
       "      <td>0.719422</td>\n",
       "      <td>0.643914</td>\n",
       "      <td>0.404600</td>\n",
       "      <td>0.149253</td>\n",
       "      <td>0.003422</td>\n",
       "      <td>0.031444</td>\n",
       "      <td>0.000062</td>\n",
       "      <td>2023</td>\n",
       "      <td>4</td>\n",
       "    </tr>\n",
       "    <tr>\n",
       "      <th>2023-05-01</th>\n",
       "      <td>0.258698</td>\n",
       "      <td>0.231539</td>\n",
       "      <td>0.145491</td>\n",
       "      <td>0.053670</td>\n",
       "      <td>0.001230</td>\n",
       "      <td>0.011307</td>\n",
       "      <td>0.000022</td>\n",
       "      <td>2023</td>\n",
       "      <td>5</td>\n",
       "    </tr>\n",
       "  </tbody>\n",
       "</table>"
      ],
      "text/plain": [
       "<IPython.core.display.HTML object>"
      ]
     },
     "execution_count": 83,
     "metadata": {},
     "output_type": "execute_result"
    }
   ],
   "source": [
    "HTML(DISCHARGE.tail(6).to_html(index=True))"
   ]
  },
  {
   "cell_type": "markdown",
   "metadata": {},
   "source": [
    "### Pleasee select the runoff type for the analysis (RUNOFF_total, RUNOFF_sub, RUNOFF_sup)"
   ]
  },
  {
   "cell_type": "code",
   "execution_count": 84,
   "metadata": {},
   "outputs": [],
   "source": [
    "# Select the runoff type \n",
    "RUNOFF = RUNOFF_total"
   ]
  },
  {
   "attachments": {},
   "cell_type": "markdown",
   "metadata": {},
   "source": [
    "### Select reference period from 'year_start' to 'year_end'"
   ]
  },
  {
   "attachments": {},
   "cell_type": "markdown",
   "metadata": {},
   "source": [
    "Select variable of interest"
   ]
  },
  {
   "cell_type": "code",
   "execution_count": 85,
   "metadata": {},
   "outputs": [],
   "source": [
    "year_start = 1981\n",
    "year_end = 2010\n",
    "# Caudal\n",
    "SELECTED_REF_DISCHARGE= DISCHARGE[(DISCHARGE['year'] >= year_start) & (DISCHARGE['year'] <= year_end)]\n",
    "# Escorrentia\n",
    "SELECTED_REF_RUNOFF = RUNOFF[(RUNOFF['year'] >= year_start) & (RUNOFF['year'] <= year_end)]\n",
    "# Precip\n",
    "SELECTED_REF_PRECIP = PRECIP[(PRECIP['year'] >= year_start) & (PRECIP['year'] <= year_end)]"
   ]
  },
  {
   "attachments": {},
   "cell_type": "markdown",
   "metadata": {},
   "source": [
    "#### Monthly analysis of the selected basin\n",
    "\n",
    "Based on the codcuenca_n2, here presents the monthly analysis of the runoff variable"
   ]
  },
  {
   "cell_type": "code",
   "execution_count": 86,
   "metadata": {},
   "outputs": [],
   "source": [
    "RUNOFF['avg_runoff'] = RUNOFF.iloc[:,2:-1].mean(axis=1)"
   ]
  },
  {
   "cell_type": "code",
   "execution_count": 87,
   "metadata": {},
   "outputs": [],
   "source": [
    "sum_avg_runoff_year = RUNOFF.groupby(['year'])['avg_runoff'].sum()\n",
    "sum_avg_runoff_year = sum_avg_runoff_year.to_frame()\n",
    "sum_avg_runoff_month = RUNOFF.groupby(['year','month'])['avg_runoff'].sum()\n",
    "sum_avg_runoff_month = sum_avg_runoff_month.to_frame()"
   ]
  },
  {
   "cell_type": "code",
   "execution_count": 89,
   "metadata": {},
   "outputs": [
    {
     "data": {
      "text/html": [
       "<table border=\"1\" class=\"dataframe\">\n",
       "  <thead>\n",
       "    <tr style=\"text-align: right;\">\n",
       "      <th></th>\n",
       "      <th></th>\n",
       "      <th>avg_runoff</th>\n",
       "    </tr>\n",
       "    <tr>\n",
       "      <th>year</th>\n",
       "      <th>month</th>\n",
       "      <th></th>\n",
       "    </tr>\n",
       "  </thead>\n",
       "  <tbody>\n",
       "    <tr>\n",
       "      <th rowspan=\"7\" valign=\"top\">2022</th>\n",
       "      <th>6</th>\n",
       "      <td>0.373750</td>\n",
       "    </tr>\n",
       "    <tr>\n",
       "      <th>7</th>\n",
       "      <td>15.655678</td>\n",
       "    </tr>\n",
       "    <tr>\n",
       "      <th>8</th>\n",
       "      <td>9.349860</td>\n",
       "    </tr>\n",
       "    <tr>\n",
       "      <th>9</th>\n",
       "      <td>4.746348</td>\n",
       "    </tr>\n",
       "    <tr>\n",
       "      <th>10</th>\n",
       "      <td>3.050081</td>\n",
       "    </tr>\n",
       "    <tr>\n",
       "      <th>11</th>\n",
       "      <td>1.831272</td>\n",
       "    </tr>\n",
       "    <tr>\n",
       "      <th>12</th>\n",
       "      <td>0.795180</td>\n",
       "    </tr>\n",
       "    <tr>\n",
       "      <th rowspan=\"5\" valign=\"top\">2023</th>\n",
       "      <th>1</th>\n",
       "      <td>0.295473</td>\n",
       "    </tr>\n",
       "    <tr>\n",
       "      <th>2</th>\n",
       "      <td>0.109789</td>\n",
       "    </tr>\n",
       "    <tr>\n",
       "      <th>3</th>\n",
       "      <td>2.956781</td>\n",
       "    </tr>\n",
       "    <tr>\n",
       "      <th>4</th>\n",
       "      <td>1.992145</td>\n",
       "    </tr>\n",
       "    <tr>\n",
       "      <th>5</th>\n",
       "      <td>0.740232</td>\n",
       "    </tr>\n",
       "  </tbody>\n",
       "</table>"
      ],
      "text/plain": [
       "<IPython.core.display.HTML object>"
      ]
     },
     "execution_count": 89,
     "metadata": {},
     "output_type": "execute_result"
    }
   ],
   "source": [
    "HTML(sum_avg_runoff_month.tail(12).to_html())"
   ]
  },
  {
   "cell_type": "code",
   "execution_count": 90,
   "metadata": {},
   "outputs": [],
   "source": [
    "# sum_avg_runoff_month.to_clipboard()"
   ]
  },
  {
   "attachments": {},
   "cell_type": "markdown",
   "metadata": {},
   "source": [
    "### Aggregate the basin Leve 3 discharge values to Basin Level 2 discharge"
   ]
  },
  {
   "cell_type": "code",
   "execution_count": 98,
   "metadata": {},
   "outputs": [],
   "source": [
    "# Buscar columnas que empiezan con el codigo de cuenca nivel 2\n",
    "filter_col = [col for col in DISCHARGE if col.startswith(str(codcuenca_n2))]\n",
    "DISCHARGE_SELECTED = DISCHARGE[filter_col]\n",
    "# Discharge \n",
    "DISCHARGE_N2 = pd.DataFrame()\n",
    "DISCHARGE_N2['year'] = DISCHARGE['year']\n",
    "DISCHARGE_N2['month'] = DISCHARGE['month']\n",
    "DISCHARGE_N2['discharge'] = DISCHARGE_SELECTED.sum(axis=1)\n",
    "\n",
    "DISCHARGE_N2['date'] = pd.to_datetime(dict(year=DISCHARGE_N2['year'],month=DISCHARGE_N2['month'],day=1))\n",
    "DISCHARGE_N2 = DISCHARGE_N2.set_index('date')"
   ]
  },
  {
   "cell_type": "code",
   "execution_count": 100,
   "metadata": {},
   "outputs": [
    {
     "data": {
      "text/html": [
       "<table border=\"1\" class=\"dataframe\">\n",
       "  <thead>\n",
       "    <tr style=\"text-align: right;\">\n",
       "      <th></th>\n",
       "      <th>year</th>\n",
       "      <th>month</th>\n",
       "      <th>discharge</th>\n",
       "    </tr>\n",
       "    <tr>\n",
       "      <th>date</th>\n",
       "      <th></th>\n",
       "      <th></th>\n",
       "      <th></th>\n",
       "    </tr>\n",
       "  </thead>\n",
       "  <tbody>\n",
       "    <tr>\n",
       "      <th>2022-06-01</th>\n",
       "      <td>2022</td>\n",
       "      <td>6</td>\n",
       "      <td>0.357227</td>\n",
       "    </tr>\n",
       "    <tr>\n",
       "      <th>2022-07-01</th>\n",
       "      <td>2022</td>\n",
       "      <td>7</td>\n",
       "      <td>14.049967</td>\n",
       "    </tr>\n",
       "    <tr>\n",
       "      <th>2022-08-01</th>\n",
       "      <td>2022</td>\n",
       "      <td>8</td>\n",
       "      <td>8.576951</td>\n",
       "    </tr>\n",
       "    <tr>\n",
       "      <th>2022-09-01</th>\n",
       "      <td>2022</td>\n",
       "      <td>9</td>\n",
       "      <td>4.492150</td>\n",
       "    </tr>\n",
       "    <tr>\n",
       "      <th>2022-10-01</th>\n",
       "      <td>2022</td>\n",
       "      <td>10</td>\n",
       "      <td>2.667636</td>\n",
       "    </tr>\n",
       "    <tr>\n",
       "      <th>2022-11-01</th>\n",
       "      <td>2022</td>\n",
       "      <td>11</td>\n",
       "      <td>1.609445</td>\n",
       "    </tr>\n",
       "    <tr>\n",
       "      <th>2022-12-01</th>\n",
       "      <td>2022</td>\n",
       "      <td>12</td>\n",
       "      <td>0.659103</td>\n",
       "    </tr>\n",
       "    <tr>\n",
       "      <th>2023-01-01</th>\n",
       "      <td>2023</td>\n",
       "      <td>1</td>\n",
       "      <td>0.244909</td>\n",
       "    </tr>\n",
       "    <tr>\n",
       "      <th>2023-02-01</th>\n",
       "      <td>2023</td>\n",
       "      <td>2</td>\n",
       "      <td>0.100751</td>\n",
       "    </tr>\n",
       "    <tr>\n",
       "      <th>2023-03-01</th>\n",
       "      <td>2023</td>\n",
       "      <td>3</td>\n",
       "      <td>2.669488</td>\n",
       "    </tr>\n",
       "    <tr>\n",
       "      <th>2023-04-01</th>\n",
       "      <td>2023</td>\n",
       "      <td>4</td>\n",
       "      <td>1.952116</td>\n",
       "    </tr>\n",
       "    <tr>\n",
       "      <th>2023-05-01</th>\n",
       "      <td>2023</td>\n",
       "      <td>5</td>\n",
       "      <td>0.701958</td>\n",
       "    </tr>\n",
       "  </tbody>\n",
       "</table>"
      ],
      "text/plain": [
       "<IPython.core.display.HTML object>"
      ]
     },
     "execution_count": 100,
     "metadata": {},
     "output_type": "execute_result"
    }
   ],
   "source": [
    "HTML(DISCHARGE_N2.tail(12).to_html())"
   ]
  }
 ],
 "metadata": {
  "kernelspec": {
   "display_name": "HydroSOS",
   "language": "python",
   "name": "python3"
  },
  "language_info": {
   "codemirror_mode": {
    "name": "ipython",
    "version": 3
   },
   "file_extension": ".py",
   "mimetype": "text/x-python",
   "name": "python",
   "nbconvert_exporter": "python",
   "pygments_lexer": "ipython3",
   "version": "3.10.8"
  },
  "orig_nbformat": 4
 },
 "nbformat": 4,
 "nbformat_minor": 2
}
