{
 "cells": [
  {
   "attachments": {},
   "cell_type": "markdown",
   "metadata": {},
   "source": [
    "# Análisis de frecuencia en Embalses usando imagenes satelitales\n",
    "\n",
    "## Dirección Nacional de Aguas (DINAGUA) - Ministerio de Ambiente\n",
    "\n",
    "### Obtener la imagen Satelital del Joint Research Center's (JRC) Global Surface Water Mapping Layers, v1.2"
   ]
  },
  {
   "attachments": {},
   "cell_type": "markdown",
   "metadata": {},
   "source": [
    "Importar los modulos de Python necesarios"
   ]
  },
  {
   "cell_type": "code",
   "execution_count": 119,
   "metadata": {},
   "outputs": [],
   "source": [
    "# Import the packages\n",
    "import ee\n",
    "import geemap\n",
    "import os\n",
    "import geemap.colormaps as cm"
   ]
  },
  {
   "cell_type": "code",
   "execution_count": 120,
   "metadata": {},
   "outputs": [],
   "source": [
    "# Quitar el comentario para correr si no se esta inicializado y autenticado la app\n",
    "\n",
    "# ee.Authenticate()\n",
    "# ee.Initialize()"
   ]
  },
  {
   "attachments": {},
   "cell_type": "markdown",
   "metadata": {},
   "source": [
    "Generar el Mapa base centrado en Uruguay"
   ]
  },
  {
   "cell_type": "code",
   "execution_count": 121,
   "metadata": {},
   "outputs": [
    {
     "data": {
      "application/vnd.jupyter.widget-view+json": {
       "model_id": "eb7d8411feef4ed8b8a5fa7d0fb4be97",
       "version_major": 2,
       "version_minor": 0
      },
      "text/plain": [
       "Map(center=[-32.7, -56], controls=(WidgetControl(options=['position', 'transparent_bg'], widget=HBox(children=…"
      ]
     },
     "metadata": {},
     "output_type": "display_data"
    }
   ],
   "source": [
    "Map = geemap.Map(center=[-32.7,-56], zoom=7)\n",
    "Map"
   ]
  },
  {
   "attachments": {},
   "cell_type": "markdown",
   "metadata": {},
   "source": [
    "Para definir un área de interes, se debe realizar lo siguiente: \n",
    "1. Ir a la barra de digitalización ubicado en parte izquierda del mapa\n",
    "2. Seleccionar una herramienta de digitalización. Por ejemplo, seleccionamos dibujar un rectangulo\n",
    "3. Dibujamos el area de interes y cerramos el área. "
   ]
  },
  {
   "attachments": {},
   "cell_type": "markdown",
   "metadata": {},
   "source": [
    "La siguiente linea de comando permite extraer el poligono determinado por el usuario y lo asigna a la variable roi "
   ]
  },
  {
   "cell_type": "code",
   "execution_count": 122,
   "metadata": {},
   "outputs": [],
   "source": [
    "# Toma la geometria que defina el usuario en el mapa\n",
    "feature = Map.draw_last_feature\n",
    "# Si el usuario no define una geometria, entonces define un poligono por defecto en Canelon Grande\n",
    "if feature is None:\n",
    "    geom = ee.Geometry.Polygon(\n",
    "        [\n",
    "            [\n",
    "                [-56.30, -34.50],\n",
    "                [-56.18, -34.50],\n",
    "                [-56.18, -34.40],\n",
    "                [-56.30, -34.40],\n",
    "                [-56.30, -34.50],\n",
    "            ]\n",
    "        ]\n",
    "    )\n",
    "    feature = ee.Feature(geom, {})\n",
    "\n",
    "roi = feature.geometry()"
   ]
  },
  {
   "attachments": {},
   "cell_type": "markdown",
   "metadata": {},
   "source": [
    "Buscamos una colección de imagenes de la Misión Copernicus Sentinel-2. Ademas se realiza lo siguiente:\n",
    "1. Filtrar por area de interes (roi)\n",
    "2. Seleccionar el producto \"occurrence\""
   ]
  },
  {
   "cell_type": "code",
   "execution_count": 123,
   "metadata": {},
   "outputs": [],
   "source": [
    "occurrence = ee.Image(\"JRC/GSW1_4/GlobalSurfaceWater\") \\\n",
    "    .clip(roi) \\\n",
    "    .select('occurrence')"
   ]
  },
  {
   "cell_type": "code",
   "execution_count": 124,
   "metadata": {},
   "outputs": [],
   "source": [
    "freq = 90\n",
    "\n",
    "mask = occurrence.gt(freq).unmask(1)\n",
    "water_mask = occurrence.updateMask(mask)"
   ]
  },
  {
   "cell_type": "code",
   "execution_count": 125,
   "metadata": {},
   "outputs": [],
   "source": [
    "vis_occurrence = {'min' : 0, \\\n",
    "    'max' : 100, \\\n",
    "    'palette': ['red', 'blue']\n",
    "    }\n",
    "\n",
    "waterVisParam = {'palette': 'blue'}\n",
    "\n",
    "Map.addLayer(occurrence.updateMask(occurrence.divide(100)),vis_occurrence, name=\"Water Occurrence (1984-2022)\",shown = False)\n",
    "Map.addLayer(water_mask,waterVisParam,name = 'Water 90% frequency',shown = True, opacity = 0.4)"
   ]
  },
  {
   "attachments": {},
   "cell_type": "markdown",
   "metadata": {},
   "source": [
    "### Comparando ocurrencia y situación actual"
   ]
  },
  {
   "cell_type": "code",
   "execution_count": 126,
   "metadata": {},
   "outputs": [],
   "source": [
    "# Definimos una fecha de inicio y final para buscar imagenes Sentinel Disponibles\n",
    "startDate = '2023-03-01'\n",
    "endDate = '2023-03-28'\n",
    "# Filtramos\n",
    "Collection = ee.ImageCollection(\"COPERNICUS/S2_SR_HARMONIZED\") \\\n",
    "    .filterBounds(roi) \\\n",
    "    .filterDate(startDate, endDate) \\\n",
    "    .filterMetadata(\"CLOUDY_PIXEL_PERCENTAGE\",\"less_than\",10)\n"
   ]
  },
  {
   "attachments": {},
   "cell_type": "markdown",
   "metadata": {},
   "source": [
    "Extraemos la imagen con menor porcentaje de nubes y extremos para el area de interes (roi). Esta imagen se agrega al mapa mostrado arriba"
   ]
  },
  {
   "cell_type": "code",
   "execution_count": 127,
   "metadata": {},
   "outputs": [
    {
     "name": "stdout",
     "output_type": "stream",
     "text": [
      "La imagen corresponde al día 06-Mar-2023\n"
     ]
    }
   ],
   "source": [
    "image = Collection.first().clip(roi)\n",
    "# Parametros para graficar\n",
    "Map.centerObject(roi)\n",
    "vis_param = {'min': 228, 'max': 1705, 'bands': ['B4', 'B3', 'B2'], 'RGB': 1.5}\n",
    "Map.addLayer(image, vis_param, \"Color Verdadero\",shown = False)\n",
    "Map.addLayer(roi,{},'Área de Interes',shown = False)\n",
    "# Mostramos la fecha en que se tomó la imagen satelital\n",
    "date = ee.Date(image.get('system:time_start')).format('dd-MMM-YYYY')\n",
    "print(f'La imagen corresponde al día {date.getInfo()}')"
   ]
  },
  {
   "attachments": {},
   "cell_type": "markdown",
   "metadata": {},
   "source": [
    "#### Calculamos indicadores"
   ]
  },
  {
   "cell_type": "code",
   "execution_count": 128,
   "metadata": {},
   "outputs": [],
   "source": [
    "AWEI = image.expression('4*(GREEN - SWIR1) - (0.25*NIR + 2.75*SWIR2)', \n",
    "      {\n",
    "      'GREEN': image.select('B3').multiply(0.0001),\n",
    "      'NIR': image.select('B8').multiply(0.0001),\n",
    "      'SWIR1': image.select('B11').multiply(0.0001),\n",
    "      'SWIR2': image.select('B12').multiply(0.0001),\n",
    "      })\n",
    "\n",
    "# Normalized Difference Water Index (NDWI)\n",
    "NDWI = image.normalizedDifference(['B3', 'B8'])\n",
    "\n",
    "# Modified Normalized Difference Water Index (MNDWI)\n",
    "MNDWI = image.normalizedDifference([\"B8\",\"B4\"])\n",
    "\n",
    "# Combinar los indicadores para obtener un indice compuesto\n",
    "waterCombine = AWEI.lt(0).And(NDWI.lt(0)).And(MNDWI.gt(0)).rename('renameToSelectBands')"
   ]
  },
  {
   "attachments": {},
   "cell_type": "markdown",
   "metadata": {},
   "source": [
    "Generar una mascara para remover valores nulos"
   ]
  },
  {
   "cell_type": "code",
   "execution_count": 129,
   "metadata": {},
   "outputs": [],
   "source": [
    "mask = waterCombine.eq(0)\n",
    "water = waterCombine.updateMask(mask)"
   ]
  },
  {
   "attachments": {},
   "cell_type": "markdown",
   "metadata": {},
   "source": [
    "Agregar la capa de Agua disponible en la imagen"
   ]
  },
  {
   "cell_type": "code",
   "execution_count": 130,
   "metadata": {},
   "outputs": [
    {
     "data": {
      "application/vnd.jupyter.widget-view+json": {
       "model_id": "eb7d8411feef4ed8b8a5fa7d0fb4be97",
       "version_major": 2,
       "version_minor": 0
      },
      "text/plain": [
       "Map(center=[-34.4500073323256, -56.239999999999995], controls=(WidgetControl(options=['position', 'transparent…"
      ]
     },
     "metadata": {},
     "output_type": "display_data"
    }
   ],
   "source": [
    "Map.centerObject(roi)\n",
    "waterVisParam = {'palette':'red'}\n",
    "Map.addLayer(water,waterVisParam, 'Agua Disponible',shown = True, opacity=0.7)\n",
    "Map"
   ]
  },
  {
   "attachments": {},
   "cell_type": "markdown",
   "metadata": {},
   "source": [
    "#### Descargar los GeoTiff para visualizar en QGIS"
   ]
  },
  {
   "cell_type": "code",
   "execution_count": 131,
   "metadata": {},
   "outputs": [
    {
     "name": "stdout",
     "output_type": "stream",
     "text": [
      "https://earthengine.googleapis.com/v1alpha/projects/earthengine-legacy/thumbnails/170ae152127ccbc24fd80e8905400b05-7d682bb4548274c3a32b383b1e202300:getPixels\n"
     ]
    }
   ],
   "source": [
    "link_occurrence = occurrence.getDownloadURL(\n",
    "    {\n",
    "    'scale': 30,\n",
    "    'region': roi,\n",
    "    'crs': 'EPSG:4326',\n",
    "    'fileFormat': 'GeoTIFF',\n",
    "    });\n",
    "\n",
    "\n",
    "\n",
    "print(link_occurrence)\n"
   ]
  },
  {
   "cell_type": "code",
   "execution_count": 132,
   "metadata": {},
   "outputs": [
    {
     "name": "stdout",
     "output_type": "stream",
     "text": [
      "https://earthengine.googleapis.com/v1alpha/projects/earthengine-legacy/thumbnails/cb131eaafb93170d58728b9bf87fc988-089335edff361127b9a2aff7dd45f161:getPixels\n"
     ]
    }
   ],
   "source": [
    "link_actual = water.getDownloadURL(\n",
    "    {\n",
    "    'scale': 10,\n",
    "    'region': roi,\n",
    "    'crs': 'EPSG:4326',\n",
    "    'fileFormat': 'GeoTIFF',\n",
    "    });\n",
    "print(link_actual)"
   ]
  }
 ],
 "metadata": {
  "kernelspec": {
   "display_name": "gee",
   "language": "python",
   "name": "python3"
  },
  "language_info": {
   "codemirror_mode": {
    "name": "ipython",
    "version": 3
   },
   "file_extension": ".py",
   "mimetype": "text/x-python",
   "name": "python",
   "nbconvert_exporter": "python",
   "pygments_lexer": "ipython3",
   "version": "3.9.12"
  },
  "orig_nbformat": 4
 },
 "nbformat": 4,
 "nbformat_minor": 2
}
