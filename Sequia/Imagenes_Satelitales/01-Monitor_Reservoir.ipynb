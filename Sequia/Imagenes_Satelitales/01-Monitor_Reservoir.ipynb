{
 "cells": [
  {
   "attachments": {},
   "cell_type": "markdown",
   "metadata": {},
   "source": [
    "# Análisis de estado de reservorios utilizando imagenes satelitales\n",
    "\n",
    "## Dirección Nacional de Aguas (DINAGUA) - Ministerio de Ambiente\n",
    "\n",
    "### Obtener la imagen Satelital de la Misión Sentinel-2"
   ]
  },
  {
   "attachments": {},
   "cell_type": "markdown",
   "metadata": {},
   "source": [
    "Importar los modulos de Python necesarios"
   ]
  },
  {
   "cell_type": "code",
   "execution_count": 162,
   "metadata": {},
   "outputs": [],
   "source": [
    "# Import the packages\n",
    "import ee\n",
    "import geemap\n",
    "import os\n",
    "import geemap.colormaps as cm"
   ]
  },
  {
   "cell_type": "code",
   "execution_count": null,
   "metadata": {},
   "outputs": [],
   "source": [
    "# Quitar el comentario para correr si no se esta inicializado y autenticado la app\n",
    "\n",
    "# ee.Authenticate()\n",
    "# ee.Initialize()"
   ]
  },
  {
   "attachments": {},
   "cell_type": "markdown",
   "metadata": {},
   "source": [
    "Generar el Mapa base centrado en Uruguay"
   ]
  },
  {
   "cell_type": "code",
   "execution_count": 163,
   "metadata": {},
   "outputs": [
    {
     "data": {
      "application/vnd.jupyter.widget-view+json": {
       "model_id": "0221e53e6f7d410d9633ce4a1a492aed",
       "version_major": 2,
       "version_minor": 0
      },
      "text/plain": [
       "Map(center=[-32.7, -56], controls=(WidgetControl(options=['position', 'transparent_bg'], widget=HBox(children=…"
      ]
     },
     "metadata": {},
     "output_type": "display_data"
    }
   ],
   "source": [
    "Map = geemap.Map(center=[-32.7,-56], zoom=7)\n",
    "Map"
   ]
  },
  {
   "attachments": {},
   "cell_type": "markdown",
   "metadata": {},
   "source": [
    "Para definir un área de interes, se debe realizar lo siguiente: \n",
    "1. Ir a la barra de digitalización ubicado en parte izquierda del mapa\n",
    "2. Seleccionar una herramienta de digitalización. Por ejemplo, seleccionamos dibujar un rectangulo\n",
    "3. Dibujamos el area de interes y cerramos el área. "
   ]
  },
  {
   "attachments": {},
   "cell_type": "markdown",
   "metadata": {},
   "source": [
    "La siguiente linea de comando permite extraer el poligono determinado por el usuario y lo asigna a la variable roi "
   ]
  },
  {
   "cell_type": "code",
   "execution_count": 164,
   "metadata": {},
   "outputs": [],
   "source": [
    "Map.draw_features\n",
    "roi = ee.FeatureCollection(Map.draw_features)"
   ]
  },
  {
   "attachments": {},
   "cell_type": "markdown",
   "metadata": {},
   "source": [
    "Definimos una fecha de inicio y final para buscar imagenes Sentinel Disponibles"
   ]
  },
  {
   "cell_type": "code",
   "execution_count": 165,
   "metadata": {},
   "outputs": [],
   "source": [
    "startDate = '2023-03-01'\n",
    "endDate = '2023-03-10'"
   ]
  },
  {
   "attachments": {},
   "cell_type": "markdown",
   "metadata": {},
   "source": [
    "Buscamos una colección de imagenes de la Misión Copernicus Sentinel-2. Ademas se realiza lo siguiente:\n",
    "1. Filtrar por area de interes (roi)\n",
    "2. Filtrar por la fecha de inicio y final"
   ]
  },
  {
   "cell_type": "code",
   "execution_count": 169,
   "metadata": {},
   "outputs": [],
   "source": [
    "Collection = ee.ImageCollection(\"COPERNICUS/S2_SR_HARMONIZED\") \\\n",
    "    .filterBounds(roi) \\\n",
    "    .filterDate(startDate, endDate)"
   ]
  },
  {
   "attachments": {},
   "cell_type": "markdown",
   "metadata": {},
   "source": [
    "En este punto se genera una lista con las imagenes satelitales, su correspondiente fecha y el porcentaje de nubes en el pixel "
   ]
  },
  {
   "cell_type": "code",
   "execution_count": 175,
   "metadata": {},
   "outputs": [],
   "source": [
    "# Obtener los porcentaje de nubes en la collección de imagenes\n",
    "percentage_cloud = ee.List(Collection.aggregate_array('CLOUDY_PIXEL_PERCENTAGE')).getInfo()\n",
    "# Obtener las fechas en que las imagenes fueron obtenidas\n",
    "dates = ee.List(Collection \\\n",
    "    .aggregate_array('system:time_start')) \\\n",
    "    .map(lambda time_start: \n",
    "         ee.Date(time_start).format('dd-MMM-YYYY')\n",
    "    ) \\\n",
    "    .getInfo()"
   ]
  },
  {
   "attachments": {},
   "cell_type": "markdown",
   "metadata": {},
   "source": [
    "Imprimir los resultados"
   ]
  },
  {
   "cell_type": "code",
   "execution_count": 184,
   "metadata": {},
   "outputs": [
    {
     "name": "stdout",
     "output_type": "stream",
     "text": [
      "La imagen tomada el 01-Mar-2023 tiene un porcentaje de nubes de 12.720492\n",
      "La imagen tomada el 06-Mar-2023 tiene un porcentaje de nubes de 0.003275\n"
     ]
    }
   ],
   "source": [
    "# generar un indicador \n",
    "idx = 0\n",
    "for cloud in percentage_cloud:\n",
    "    print(f'La imagen tomada el {dates[idx]} tiene un porcentaje de nubes de {cloud}')\n",
    "    idx =+ 1"
   ]
  },
  {
   "attachments": {},
   "cell_type": "markdown",
   "metadata": {},
   "source": [
    "Generamos una nueva collección con un filtro de Porcentaje de nubes menores a 10% "
   ]
  },
  {
   "cell_type": "code",
   "execution_count": 182,
   "metadata": {},
   "outputs": [],
   "source": [
    "Collection_cloud = Collection.filterMetadata(\"CLOUDY_PIXEL_PERCENTAGE\",\"less_than\",10)"
   ]
  },
  {
   "attachments": {},
   "cell_type": "markdown",
   "metadata": {},
   "source": [
    "Extraemos la imagen con menor porcentaje de nubes y extremos para el area de interes (roi). Esta imagen se agrega al mapa mostrado arriba"
   ]
  },
  {
   "cell_type": "code",
   "execution_count": 196,
   "metadata": {},
   "outputs": [],
   "source": [
    "image = Collection_cloud.first().clip(roi)\n",
    "# Parametros para graficar\n",
    "Map.centerObject(roi)\n",
    "vis_param = {'min': 228, 'max': 1705, 'bands': ['B4', 'B3', 'B2'], 'RGB': 1.5}\n",
    "Map.addLayer(image, vis_param, \"Color Verdadero\")"
   ]
  },
  {
   "attachments": {},
   "cell_type": "markdown",
   "metadata": {},
   "source": [
    "Mostramos la fecha en que se tomó la imagen satelital"
   ]
  },
  {
   "cell_type": "code",
   "execution_count": 185,
   "metadata": {},
   "outputs": [
    {
     "name": "stdout",
     "output_type": "stream",
     "text": [
      "La imagen corresponde al día 06-Mar-2023\n"
     ]
    }
   ],
   "source": [
    "date = ee.Date(image.get('system:time_start'))\n",
    "date2 = date.format('dd-MMM-YYYY')\n",
    "print(f'La imagen corresponde al día {date2.getInfo()}')"
   ]
  },
  {
   "attachments": {},
   "cell_type": "markdown",
   "metadata": {},
   "source": [
    "### Calculo de indicadores \n",
    "\n",
    "En esta sección se calculará los siguientes indicadores\n",
    "1. Automated Water Extraction Index (AWEI)\n",
    "2. Normalized Difference Water Index (NDWI)\n",
    "3. Modified Normalized Difference Water Index (MNDWI)"
   ]
  },
  {
   "attachments": {},
   "cell_type": "markdown",
   "metadata": {},
   "source": [
    "#### Automated Water Extraction Index (AWEI)"
   ]
  },
  {
   "cell_type": "code",
   "execution_count": 186,
   "metadata": {},
   "outputs": [],
   "source": [
    "AWEI = image.expression(\n",
    "  '4*(GREEN - SWIR1) - (0.25*NIR + 2.75*SWIR2)', {\n",
    "      'GREEN': image.select('B3').multiply(0.0001),\n",
    "      'NIR': image.select('B8').multiply(0.0001),\n",
    "      'SWIR1': image.select('B11').multiply(0.0001),\n",
    "      'SWIR2': image.select('B12').multiply(0.0001),})"
   ]
  },
  {
   "attachments": {},
   "cell_type": "markdown",
   "metadata": {},
   "source": [
    "#### Normalized Difference Water Index (NDWI)"
   ]
  },
  {
   "cell_type": "code",
   "execution_count": 187,
   "metadata": {},
   "outputs": [],
   "source": [
    "NDWI = image.normalizedDifference(['B3', 'B8'])"
   ]
  },
  {
   "attachments": {},
   "cell_type": "markdown",
   "metadata": {},
   "source": [
    "Modified Normalized Difference Water Index (MNDWI)"
   ]
  },
  {
   "cell_type": "code",
   "execution_count": 188,
   "metadata": {},
   "outputs": [],
   "source": [
    "MNDWI = image.normalizedDifference([\"B8\",\"B4\"])"
   ]
  },
  {
   "cell_type": "code",
   "execution_count": 189,
   "metadata": {},
   "outputs": [],
   "source": [
    "AWEI = AWEI.lt(0)\n",
    "NDWI = NDWI.lt(0)\n",
    "MNDWI = MNDWI.gt(0)"
   ]
  },
  {
   "attachments": {},
   "cell_type": "markdown",
   "metadata": {},
   "source": [
    "Combinar los indicadores para obtener un indice compuesto"
   ]
  },
  {
   "cell_type": "code",
   "execution_count": 190,
   "metadata": {},
   "outputs": [],
   "source": [
    "waterCombine = AWEI.And(NDWI).And(MNDWI).rename('renameToSelectBands')"
   ]
  },
  {
   "attachments": {},
   "cell_type": "markdown",
   "metadata": {},
   "source": [
    "Generar una mascara para remover valores nulos"
   ]
  },
  {
   "cell_type": "code",
   "execution_count": 198,
   "metadata": {},
   "outputs": [],
   "source": [
    "mask = waterCombine.eq(0)\n",
    "water = waterCombine.updateMask(mask)"
   ]
  },
  {
   "attachments": {},
   "cell_type": "markdown",
   "metadata": {},
   "source": [
    "Obtener el área de agua disponible"
   ]
  },
  {
   "attachments": {},
   "cell_type": "markdown",
   "metadata": {},
   "source": [
    "Agregar la capa de Agua disponible en la imagen "
   ]
  },
  {
   "cell_type": "code",
   "execution_count": 199,
   "metadata": {},
   "outputs": [],
   "source": [
    "Map.centerObject(roi)\n",
    "waterVisParam = {'palette':'29b0ff'}\n",
    "Map.addLayer(water,waterVisParam, 'Agua Disponible')"
   ]
  },
  {
   "cell_type": "code",
   "execution_count": 200,
   "metadata": {},
   "outputs": [
    {
     "data": {
      "application/vnd.jupyter.widget-view+json": {
       "model_id": "eb3c01d0d4aa4cd49b4a4c824c9ff12d",
       "version_major": 2,
       "version_minor": 0
      },
      "text/plain": [
       "TileLayer(attribution='Google Earth Engine', max_zoom=24, name='Agua Disponible', options=['attribution', 'bou…"
      ]
     },
     "metadata": {},
     "output_type": "display_data"
    }
   ],
   "source": [
    "Map.find_layer('Agua Disponible')"
   ]
  }
 ],
 "metadata": {
  "kernelspec": {
   "display_name": "gee",
   "language": "python",
   "name": "python3"
  },
  "language_info": {
   "codemirror_mode": {
    "name": "ipython",
    "version": 3
   },
   "file_extension": ".py",
   "mimetype": "text/x-python",
   "name": "python",
   "nbconvert_exporter": "python",
   "pygments_lexer": "ipython3",
   "version": "3.9.12"
  },
  "orig_nbformat": 4
 },
 "nbformat": 4,
 "nbformat_minor": 2
}
