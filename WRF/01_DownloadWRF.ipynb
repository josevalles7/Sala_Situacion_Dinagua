{
 "cells": [
  {
   "cell_type": "code",
   "execution_count": 9,
   "metadata": {},
   "outputs": [],
   "source": [
    "from ftplib import FTP\n",
    "import os\n",
    "from datetime import datetime"
   ]
  },
  {
   "cell_type": "code",
   "execution_count": 10,
   "metadata": {},
   "outputs": [
    {
     "name": "stdout",
     "output_type": "stream",
     "text": [
      "Todos los archivos en output_ftp han sido eliminados.\n"
     ]
    }
   ],
   "source": [
    "# Configuración de directorio local para guardar los archivos\n",
    "local_directory = 'output_ftp'\n",
    "os.makedirs(local_directory, exist_ok=True)\n",
    "\n",
    "# Listar todos los archivos en la carpeta\n",
    "archivos = os.listdir(local_directory)\n",
    "\n",
    "# Eliminar cada archivo\n",
    "for archivo in archivos:\n",
    "    archivo_path = os.path.join(local_directory, archivo)\n",
    "    try:\n",
    "        if os.path.isfile(archivo_path) or os.path.islink(archivo_path):\n",
    "            os.unlink(archivo_path)\n",
    "        elif os.path.isdir(archivo_path):\n",
    "            os.rmdir(archivo_path)\n",
    "    except Exception as e:\n",
    "        print(f'Error al eliminar {archivo_path}. Razón: {e}')\n",
    "\n",
    "print(f'Todos los archivos en {local_directory} han sido eliminados.')"
   ]
  },
  {
   "cell_type": "code",
   "execution_count": 11,
   "metadata": {},
   "outputs": [
    {
     "name": "stdout",
     "output_type": "stream",
     "text": [
      "20250330_0\n"
     ]
    }
   ],
   "source": [
    "# Obtener la fecha y hora actual\n",
    "t0 = datetime.now()\n",
    "# Formatear la fecha y hora en el formato YYYYMMDD_0\n",
    "t0_str = t0.strftime('%Y%m%d_0')\n",
    "# Imprimir el resultado\n",
    "print(t0_str)"
   ]
  },
  {
   "cell_type": "code",
   "execution_count": 12,
   "metadata": {},
   "outputs": [],
   "source": [
    "# Fill Required Information\n",
    "HOSTNAME = \"201.217.157.220\"\n",
    "USERNAME = \"dinagua\"\n",
    "PASSWORD = \"piGcNFP2cyNT4J\""
   ]
  },
  {
   "cell_type": "code",
   "execution_count": 13,
   "metadata": {},
   "outputs": [
    {
     "name": "stdout",
     "output_type": "stream",
     "text": [
      "Conectado a 201.217.157.220\n"
     ]
    }
   ],
   "source": [
    "# Conexión al servidor FTP\n",
    "ftp = FTP(HOSTNAME)\n",
    "ftp.login(user=USERNAME, passwd=PASSWORD)\n",
    "print(f\"Conectado a {HOSTNAME}\")"
   ]
  },
  {
   "cell_type": "code",
   "execution_count": 14,
   "metadata": {},
   "outputs": [
    {
     "name": "stdout",
     "output_type": "stream",
     "text": [
      "/20250330_0/\n"
     ]
    }
   ],
   "source": [
    "# Listar archivos en el directorio FTP\n",
    "# ftp_dir = '/20241212_0/'\n",
    "ftp_dir = f'/{t0_str}/'  # Cambia a la ruta correcta en el servidor\n",
    "print(ftp_dir)\n",
    "ftp.cwd(ftp_dir)  # Navegar al directorio deseado\n",
    "files = ftp.nlst()  # Lista de archivos en el directorio"
   ]
  },
  {
   "cell_type": "code",
   "execution_count": 15,
   "metadata": {},
   "outputs": [
    {
     "name": "stdout",
     "output_type": "stream",
     "text": [
      "Descargando wrfout_d01_dinagua_2025-03-30_05.nc...\n",
      "Archivo guardado en: output_ftp\\wrfout_d01_dinagua_2025-03-30_05.nc\n",
      "Descargando wrfout_d01_dinagua_2025-04-01_17.nc...\n",
      "Archivo guardado en: output_ftp\\wrfout_d01_dinagua_2025-04-01_17.nc\n",
      "Descargando wrfout_d01_dinagua_2025-03-30_10.nc...\n",
      "Archivo guardado en: output_ftp\\wrfout_d01_dinagua_2025-03-30_10.nc\n",
      "Descargando wrfout_d01_dinagua_2025-03-30_21.nc...\n",
      "Archivo guardado en: output_ftp\\wrfout_d01_dinagua_2025-03-30_21.nc\n",
      "Descargando wrfout_d01_dinagua_2025-03-31_10.nc...\n",
      "Archivo guardado en: output_ftp\\wrfout_d01_dinagua_2025-03-31_10.nc\n",
      "Descargando wrfout_d01_dinagua_2025-03-31_03.nc...\n",
      "Archivo guardado en: output_ftp\\wrfout_d01_dinagua_2025-03-31_03.nc\n",
      "Descargando wrfout_d01_dinagua_2025-03-31_06.nc...\n",
      "Archivo guardado en: output_ftp\\wrfout_d01_dinagua_2025-03-31_06.nc\n",
      "Descargando wrfout_d01_dinagua_2025-03-30_13.nc...\n",
      "Archivo guardado en: output_ftp\\wrfout_d01_dinagua_2025-03-30_13.nc\n",
      "Descargando wrfout_d01_dinagua_2025-04-01_13.nc...\n",
      "Archivo guardado en: output_ftp\\wrfout_d01_dinagua_2025-04-01_13.nc\n",
      "Descargando wrfout_d01_dinagua_2025-04-01_11.nc...\n",
      "Archivo guardado en: output_ftp\\wrfout_d01_dinagua_2025-04-01_11.nc\n",
      "Descargando wrfout_d01_dinagua_2025-03-31_15.nc...\n",
      "Archivo guardado en: output_ftp\\wrfout_d01_dinagua_2025-03-31_15.nc\n",
      "Descargando wrfout_d01_dinagua_2025-03-31_07.nc...\n",
      "Archivo guardado en: output_ftp\\wrfout_d01_dinagua_2025-03-31_07.nc\n",
      "Descargando wrfout_d01_dinagua_2025-04-01_00.nc...\n",
      "Archivo guardado en: output_ftp\\wrfout_d01_dinagua_2025-04-01_00.nc\n",
      "Descargando wrfout_d01_dinagua_2025-03-30_09.nc...\n",
      "Archivo guardado en: output_ftp\\wrfout_d01_dinagua_2025-03-30_09.nc\n",
      "Descargando wrfout_d01_dinagua_2025-04-01_06.nc...\n",
      "Archivo guardado en: output_ftp\\wrfout_d01_dinagua_2025-04-01_06.nc\n",
      "Descargando wrfout_d01_dinagua_2025-04-01_02.nc...\n",
      "Archivo guardado en: output_ftp\\wrfout_d01_dinagua_2025-04-01_02.nc\n",
      "Descargando wrfout_d01_dinagua_2025-04-01_07.nc...\n",
      "Archivo guardado en: output_ftp\\wrfout_d01_dinagua_2025-04-01_07.nc\n",
      "Descargando wrfout_d01_dinagua_2025-04-01_21.nc...\n",
      "Archivo guardado en: output_ftp\\wrfout_d01_dinagua_2025-04-01_21.nc\n",
      "Descargando wrfout_d01_dinagua_2025-03-31_21.nc...\n",
      "Archivo guardado en: output_ftp\\wrfout_d01_dinagua_2025-03-31_21.nc\n",
      "Descargando wrfout_d01_dinagua_2025-04-01_05.nc...\n",
      "Archivo guardado en: output_ftp\\wrfout_d01_dinagua_2025-04-01_05.nc\n",
      "Descargando wrfout_d01_dinagua_2025-03-31_11.nc...\n",
      "Archivo guardado en: output_ftp\\wrfout_d01_dinagua_2025-03-31_11.nc\n",
      "Descargando wrfout_d01_dinagua_2025-03-30_18.nc...\n",
      "Archivo guardado en: output_ftp\\wrfout_d01_dinagua_2025-03-30_18.nc\n",
      "Descargando wrfout_d01_dinagua_2025-03-30_04.nc...\n",
      "Archivo guardado en: output_ftp\\wrfout_d01_dinagua_2025-03-30_04.nc\n",
      "Descargando wrfout_d01_dinagua_2025-03-31_22.nc...\n",
      "Archivo guardado en: output_ftp\\wrfout_d01_dinagua_2025-03-31_22.nc\n",
      "Descargando wrfout_d01_dinagua_2025-04-01_23.nc...\n",
      "Archivo guardado en: output_ftp\\wrfout_d01_dinagua_2025-04-01_23.nc\n",
      "Descargando wrfout_d01_dinagua_2025-03-30_07.nc...\n",
      "Archivo guardado en: output_ftp\\wrfout_d01_dinagua_2025-03-30_07.nc\n",
      "Descargando wrfout_d01_dinagua_2025-03-31_19.nc...\n",
      "Archivo guardado en: output_ftp\\wrfout_d01_dinagua_2025-03-31_19.nc\n",
      "Descargando wrfout_d01_dinagua_2025-04-01_19.nc...\n",
      "Archivo guardado en: output_ftp\\wrfout_d01_dinagua_2025-04-01_19.nc\n",
      "Descargando wrfout_d01_dinagua_2025-04-01_12.nc...\n",
      "Archivo guardado en: output_ftp\\wrfout_d01_dinagua_2025-04-01_12.nc\n",
      "Descargando wrfout_d01_dinagua_2025-04-01_09.nc...\n",
      "Archivo guardado en: output_ftp\\wrfout_d01_dinagua_2025-04-01_09.nc\n",
      "Descargando wrfout_d01_dinagua_2025-03-30_19.nc...\n",
      "Archivo guardado en: output_ftp\\wrfout_d01_dinagua_2025-03-30_19.nc\n",
      "Descargando wrfout_d01_dinagua_2025-04-01_14.nc...\n",
      "Archivo guardado en: output_ftp\\wrfout_d01_dinagua_2025-04-01_14.nc\n",
      "Descargando wrfout_d01_dinagua_2025-03-31_09.nc...\n",
      "Archivo guardado en: output_ftp\\wrfout_d01_dinagua_2025-03-31_09.nc\n",
      "Descargando wrfout_d01_dinagua_2025-04-01_18.nc...\n",
      "Archivo guardado en: output_ftp\\wrfout_d01_dinagua_2025-04-01_18.nc\n",
      "Descargando wrfout_d01_dinagua_2025-04-01_01.nc...\n",
      "Archivo guardado en: output_ftp\\wrfout_d01_dinagua_2025-04-01_01.nc\n",
      "Descargando wrfout_d01_dinagua_2025-03-30_14.nc...\n",
      "Archivo guardado en: output_ftp\\wrfout_d01_dinagua_2025-03-30_14.nc\n",
      "Descargando wrfout_d01_dinagua_2025-03-31_16.nc...\n",
      "Archivo guardado en: output_ftp\\wrfout_d01_dinagua_2025-03-31_16.nc\n",
      "Descargando wrfout_d01_dinagua_2025-03-31_00.nc...\n",
      "Archivo guardado en: output_ftp\\wrfout_d01_dinagua_2025-03-31_00.nc\n",
      "Descargando wrfout_d01_dinagua_2025-03-30_23.nc...\n",
      "Archivo guardado en: output_ftp\\wrfout_d01_dinagua_2025-03-30_23.nc\n",
      "Descargando wrfout_d01_dinagua_2025-03-30_15.nc...\n",
      "Archivo guardado en: output_ftp\\wrfout_d01_dinagua_2025-03-30_15.nc\n",
      "Descargando wrfout_d01_dinagua_2025-03-30_16.nc...\n",
      "Archivo guardado en: output_ftp\\wrfout_d01_dinagua_2025-03-30_16.nc\n",
      "Descargando wrfout_d01_dinagua_2025-03-31_17.nc...\n",
      "Archivo guardado en: output_ftp\\wrfout_d01_dinagua_2025-03-31_17.nc\n",
      "Descargando wrfout_d01_dinagua_2025-04-01_15.nc...\n",
      "Archivo guardado en: output_ftp\\wrfout_d01_dinagua_2025-04-01_15.nc\n",
      "Descargando wrfout_d01_dinagua_2025-03-30_20.nc...\n",
      "Archivo guardado en: output_ftp\\wrfout_d01_dinagua_2025-03-30_20.nc\n",
      "Descargando wrfout_d01_dinagua_2025-03-31_01.nc...\n",
      "Archivo guardado en: output_ftp\\wrfout_d01_dinagua_2025-03-31_01.nc\n",
      "Descargando wrfout_d01_dinagua_2025-04-01_20.nc...\n",
      "Archivo guardado en: output_ftp\\wrfout_d01_dinagua_2025-04-01_20.nc\n",
      "Descargando wrfout_d01_dinagua_2025-03-31_02.nc...\n",
      "Archivo guardado en: output_ftp\\wrfout_d01_dinagua_2025-03-31_02.nc\n",
      "Descargando wrfout_d01_dinagua_2025-03-31_05.nc...\n",
      "Archivo guardado en: output_ftp\\wrfout_d01_dinagua_2025-03-31_05.nc\n",
      "Descargando wrfout_d01_dinagua_2025-03-30_02.nc...\n",
      "Archivo guardado en: output_ftp\\wrfout_d01_dinagua_2025-03-30_02.nc\n",
      "Descargando wrfout_d01_dinagua_2025-03-31_12.nc...\n",
      "Archivo guardado en: output_ftp\\wrfout_d01_dinagua_2025-03-31_12.nc\n",
      "Descargando wrfout_d01_dinagua_2025-04-01_04.nc...\n",
      "Archivo guardado en: output_ftp\\wrfout_d01_dinagua_2025-04-01_04.nc\n",
      "Descargando wrfout_d01_dinagua_2025-04-01_08.nc...\n",
      "Archivo guardado en: output_ftp\\wrfout_d01_dinagua_2025-04-01_08.nc\n",
      "Descargando wrfout_d01_dinagua_2025-03-30_01.nc...\n",
      "Archivo guardado en: output_ftp\\wrfout_d01_dinagua_2025-03-30_01.nc\n",
      "Descargando wrfout_d01_dinagua_2025-04-01_16.nc...\n",
      "Archivo guardado en: output_ftp\\wrfout_d01_dinagua_2025-04-01_16.nc\n",
      "Descargando wrfout_d01_dinagua_2025-03-30_06.nc...\n",
      "Archivo guardado en: output_ftp\\wrfout_d01_dinagua_2025-03-30_06.nc\n",
      "Descargando wrfout_d01_dinagua_2025-03-30_22.nc...\n",
      "Archivo guardado en: output_ftp\\wrfout_d01_dinagua_2025-03-30_22.nc\n",
      "Descargando wrfout_d01_dinagua_2025-03-31_08.nc...\n",
      "Archivo guardado en: output_ftp\\wrfout_d01_dinagua_2025-03-31_08.nc\n",
      "Descargando wrfout_d01_dinagua_2025-04-02_00.nc...\n",
      "Archivo guardado en: output_ftp\\wrfout_d01_dinagua_2025-04-02_00.nc\n",
      "Descargando wrfout_d01_dinagua_2025-03-30_11.nc...\n",
      "Archivo guardado en: output_ftp\\wrfout_d01_dinagua_2025-03-30_11.nc\n",
      "Descargando wrfout_d01_dinagua_2025-04-01_10.nc...\n",
      "Archivo guardado en: output_ftp\\wrfout_d01_dinagua_2025-04-01_10.nc\n",
      "Descargando wrfout_d01_dinagua_2025-03-30_00.nc...\n",
      "Archivo guardado en: output_ftp\\wrfout_d01_dinagua_2025-03-30_00.nc\n",
      "Descargando wrfout_d01_dinagua_2025-03-30_08.nc...\n",
      "Archivo guardado en: output_ftp\\wrfout_d01_dinagua_2025-03-30_08.nc\n",
      "Descargando wrfout_d01_dinagua_2025-03-31_14.nc...\n",
      "Archivo guardado en: output_ftp\\wrfout_d01_dinagua_2025-03-31_14.nc\n",
      "Descargando wrfout_d01_dinagua_2025-04-01_22.nc...\n",
      "Archivo guardado en: output_ftp\\wrfout_d01_dinagua_2025-04-01_22.nc\n",
      "Descargando wrfout_d01_dinagua_2025-03-31_20.nc...\n",
      "Archivo guardado en: output_ftp\\wrfout_d01_dinagua_2025-03-31_20.nc\n",
      "Descargando wrfout_d01_dinagua_2025-03-31_04.nc...\n",
      "Archivo guardado en: output_ftp\\wrfout_d01_dinagua_2025-03-31_04.nc\n",
      "Descargando wrfout_d01_dinagua_2025-03-31_13.nc...\n",
      "Archivo guardado en: output_ftp\\wrfout_d01_dinagua_2025-03-31_13.nc\n",
      "Descargando wrfout_d01_dinagua_2025-03-30_03.nc...\n",
      "Archivo guardado en: output_ftp\\wrfout_d01_dinagua_2025-03-30_03.nc\n",
      "Descargando wrfout_d01_dinagua_2025-03-31_18.nc...\n",
      "Archivo guardado en: output_ftp\\wrfout_d01_dinagua_2025-03-31_18.nc\n",
      "Descargando wrfout_d01_dinagua_2025-03-30_17.nc...\n",
      "Archivo guardado en: output_ftp\\wrfout_d01_dinagua_2025-03-30_17.nc\n",
      "Descargando wrfout_d01_dinagua_2025-03-31_23.nc...\n",
      "Archivo guardado en: output_ftp\\wrfout_d01_dinagua_2025-03-31_23.nc\n",
      "Descargando wrfout_d01_dinagua_2025-04-01_03.nc...\n",
      "Archivo guardado en: output_ftp\\wrfout_d01_dinagua_2025-04-01_03.nc\n",
      "Descargando wrfout_d01_dinagua_2025-03-30_12.nc...\n",
      "Archivo guardado en: output_ftp\\wrfout_d01_dinagua_2025-03-30_12.nc\n"
     ]
    }
   ],
   "source": [
    "# Descargar archivos NetCDF\n",
    "for file in files:\n",
    "    if file.endswith('.nc'):  # Filtrar archivos NetCDF\n",
    "        local_file_path = os.path.join(local_directory, file)\n",
    "        print(f\"Descargando {file}...\")\n",
    "        with open(local_file_path, 'wb') as f:\n",
    "            ftp.retrbinary(f\"RETR {file}\", f.write)\n",
    "        print(f\"Archivo guardado en: {local_file_path}\")"
   ]
  },
  {
   "cell_type": "code",
   "execution_count": 16,
   "metadata": {},
   "outputs": [
    {
     "data": {
      "text/plain": [
       "'221-Goodbye. You uploaded 0 and downloaded 21920 kbytes.\\n221 Logout.'"
      ]
     },
     "execution_count": 16,
     "metadata": {},
     "output_type": "execute_result"
    }
   ],
   "source": [
    "# Close the Connection\n",
    "ftp.quit()"
   ]
  }
 ],
 "metadata": {
  "kernelspec": {
   "display_name": "xarray_nc",
   "language": "python",
   "name": "python3"
  },
  "language_info": {
   "codemirror_mode": {
    "name": "ipython",
    "version": 3
   },
   "file_extension": ".py",
   "mimetype": "text/x-python",
   "name": "python",
   "nbconvert_exporter": "python",
   "pygments_lexer": "ipython3",
   "version": "3.11.8"
  }
 },
 "nbformat": 4,
 "nbformat_minor": 2
}
