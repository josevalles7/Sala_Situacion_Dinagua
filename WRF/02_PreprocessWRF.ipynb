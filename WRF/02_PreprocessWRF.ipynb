{
 "cells": [
  {
   "cell_type": "code",
   "execution_count": 3,
   "metadata": {},
   "outputs": [],
   "source": [
    "import os\n",
    "import xarray as xr\n",
    "import numpy as np\n",
    "import matplotlib.pyplot as plt"
   ]
  },
  {
   "cell_type": "code",
   "execution_count": 4,
   "metadata": {},
   "outputs": [],
   "source": [
    "\n",
    "# Ruta local donde están los archivos NetCDF descargados\n",
    "data_dir = 'output_ftp/'  # Reemplaza con tu ruta"
   ]
  },
  {
   "cell_type": "code",
   "execution_count": 5,
   "metadata": {},
   "outputs": [],
   "source": [
    "# Lista de archivos NetCDF ordenados cronológicamente\n",
    "files = sorted([os.path.join(data_dir, f) for f in os.listdir(data_dir) if f.endswith('.nc')])\n",
    "# Verificar si hay archivos disponibles\n",
    "if not files:\n",
    "    raise FileNotFoundError(\"No se encontraron archivos NetCDF en la carpeta especificada.\")\n",
    "\n",
    "# Crear una lista para almacenar la variable Ppro de cada archivo\n",
    "ppro_list = []"
   ]
  },
  {
   "cell_type": "markdown",
   "metadata": {},
   "source": [
    "### Sumar RAINC y RAINNC"
   ]
  },
  {
   "cell_type": "code",
   "execution_count": 6,
   "metadata": {},
   "outputs": [
    {
     "name": "stdout",
     "output_type": "stream",
     "text": [
      "output_ftp/wrfout_d01_dinagua_2025-03-30_00.nc\n",
      "output_ftp/wrfout_d01_dinagua_2025-03-30_01.nc\n",
      "output_ftp/wrfout_d01_dinagua_2025-03-30_02.nc\n",
      "output_ftp/wrfout_d01_dinagua_2025-03-30_03.nc\n",
      "output_ftp/wrfout_d01_dinagua_2025-03-30_04.nc\n",
      "output_ftp/wrfout_d01_dinagua_2025-03-30_05.nc\n",
      "output_ftp/wrfout_d01_dinagua_2025-03-30_06.nc\n",
      "output_ftp/wrfout_d01_dinagua_2025-03-30_07.nc\n",
      "output_ftp/wrfout_d01_dinagua_2025-03-30_08.nc\n",
      "output_ftp/wrfout_d01_dinagua_2025-03-30_09.nc\n",
      "output_ftp/wrfout_d01_dinagua_2025-03-30_10.nc\n",
      "output_ftp/wrfout_d01_dinagua_2025-03-30_11.nc\n",
      "output_ftp/wrfout_d01_dinagua_2025-03-30_12.nc\n",
      "output_ftp/wrfout_d01_dinagua_2025-03-30_13.nc\n",
      "output_ftp/wrfout_d01_dinagua_2025-03-30_14.nc\n",
      "output_ftp/wrfout_d01_dinagua_2025-03-30_15.nc\n",
      "output_ftp/wrfout_d01_dinagua_2025-03-30_16.nc\n",
      "output_ftp/wrfout_d01_dinagua_2025-03-30_17.nc\n",
      "output_ftp/wrfout_d01_dinagua_2025-03-30_18.nc\n",
      "output_ftp/wrfout_d01_dinagua_2025-03-30_19.nc\n",
      "output_ftp/wrfout_d01_dinagua_2025-03-30_20.nc\n",
      "output_ftp/wrfout_d01_dinagua_2025-03-30_21.nc\n",
      "output_ftp/wrfout_d01_dinagua_2025-03-30_22.nc\n",
      "output_ftp/wrfout_d01_dinagua_2025-03-30_23.nc\n",
      "output_ftp/wrfout_d01_dinagua_2025-03-31_00.nc\n",
      "output_ftp/wrfout_d01_dinagua_2025-03-31_01.nc\n",
      "output_ftp/wrfout_d01_dinagua_2025-03-31_02.nc\n",
      "output_ftp/wrfout_d01_dinagua_2025-03-31_03.nc\n",
      "output_ftp/wrfout_d01_dinagua_2025-03-31_04.nc\n",
      "output_ftp/wrfout_d01_dinagua_2025-03-31_05.nc\n",
      "output_ftp/wrfout_d01_dinagua_2025-03-31_06.nc\n",
      "output_ftp/wrfout_d01_dinagua_2025-03-31_07.nc\n",
      "output_ftp/wrfout_d01_dinagua_2025-03-31_08.nc\n",
      "output_ftp/wrfout_d01_dinagua_2025-03-31_09.nc\n",
      "output_ftp/wrfout_d01_dinagua_2025-03-31_10.nc\n",
      "output_ftp/wrfout_d01_dinagua_2025-03-31_11.nc\n",
      "output_ftp/wrfout_d01_dinagua_2025-03-31_12.nc\n",
      "output_ftp/wrfout_d01_dinagua_2025-03-31_13.nc\n",
      "output_ftp/wrfout_d01_dinagua_2025-03-31_14.nc\n",
      "output_ftp/wrfout_d01_dinagua_2025-03-31_15.nc\n",
      "output_ftp/wrfout_d01_dinagua_2025-03-31_16.nc\n",
      "output_ftp/wrfout_d01_dinagua_2025-03-31_17.nc\n",
      "output_ftp/wrfout_d01_dinagua_2025-03-31_18.nc\n",
      "output_ftp/wrfout_d01_dinagua_2025-03-31_19.nc\n",
      "output_ftp/wrfout_d01_dinagua_2025-03-31_20.nc\n",
      "output_ftp/wrfout_d01_dinagua_2025-03-31_21.nc\n",
      "output_ftp/wrfout_d01_dinagua_2025-03-31_22.nc\n",
      "output_ftp/wrfout_d01_dinagua_2025-03-31_23.nc\n",
      "output_ftp/wrfout_d01_dinagua_2025-04-01_00.nc\n",
      "output_ftp/wrfout_d01_dinagua_2025-04-01_01.nc\n",
      "output_ftp/wrfout_d01_dinagua_2025-04-01_02.nc\n",
      "output_ftp/wrfout_d01_dinagua_2025-04-01_03.nc\n",
      "output_ftp/wrfout_d01_dinagua_2025-04-01_04.nc\n",
      "output_ftp/wrfout_d01_dinagua_2025-04-01_05.nc\n",
      "output_ftp/wrfout_d01_dinagua_2025-04-01_06.nc\n",
      "output_ftp/wrfout_d01_dinagua_2025-04-01_07.nc\n",
      "output_ftp/wrfout_d01_dinagua_2025-04-01_08.nc\n",
      "output_ftp/wrfout_d01_dinagua_2025-04-01_09.nc\n",
      "output_ftp/wrfout_d01_dinagua_2025-04-01_10.nc\n",
      "output_ftp/wrfout_d01_dinagua_2025-04-01_11.nc\n",
      "output_ftp/wrfout_d01_dinagua_2025-04-01_12.nc\n",
      "output_ftp/wrfout_d01_dinagua_2025-04-01_13.nc\n",
      "output_ftp/wrfout_d01_dinagua_2025-04-01_14.nc\n",
      "output_ftp/wrfout_d01_dinagua_2025-04-01_15.nc\n",
      "output_ftp/wrfout_d01_dinagua_2025-04-01_16.nc\n",
      "output_ftp/wrfout_d01_dinagua_2025-04-01_17.nc\n",
      "output_ftp/wrfout_d01_dinagua_2025-04-01_18.nc\n",
      "output_ftp/wrfout_d01_dinagua_2025-04-01_19.nc\n",
      "output_ftp/wrfout_d01_dinagua_2025-04-01_20.nc\n",
      "output_ftp/wrfout_d01_dinagua_2025-04-01_21.nc\n",
      "output_ftp/wrfout_d01_dinagua_2025-04-01_22.nc\n",
      "output_ftp/wrfout_d01_dinagua_2025-04-01_23.nc\n",
      "output_ftp/wrfout_d01_dinagua_2025-04-02_00.nc\n"
     ]
    }
   ],
   "source": [
    "# Procesamiento: sumar RAINC y RAINNC para obtener Ppro\n",
    "for file in files:\n",
    "    print(file)\n",
    "    ds = xr.open_dataset(file)\n",
    "    ppro = ds['RAINC'] + ds['RAINNC']  # Sumar las variables\n",
    "    ppro_list.append(ppro)  # Almacenar la suma\n",
    "    ds.close()"
   ]
  },
  {
   "cell_type": "code",
   "execution_count": 7,
   "metadata": {},
   "outputs": [],
   "source": [
    "# Crear un DataArray con todas las salidas horarias de Ppro\n",
    "ppro_combined = xr.concat(ppro_list, dim=\"time\")\n",
    "ppro_combined = ppro_combined.rename(\"PRECIP\")"
   ]
  },
  {
   "cell_type": "code",
   "execution_count": 8,
   "metadata": {},
   "outputs": [],
   "source": [
    "# Guardar NetCDF\n",
    "ppro_combined.to_netcdf('WRFPrecip_acumulado.nc')"
   ]
  },
  {
   "cell_type": "markdown",
   "metadata": {},
   "source": [
    "### Obtener lluvia horaria"
   ]
  },
  {
   "cell_type": "code",
   "execution_count": 9,
   "metadata": {},
   "outputs": [],
   "source": [
    "# Desagregar la lluvia acumulada a valores horarios\n",
    "ppro_hourly = ppro_combined.diff(dim=\"time\")  # Diferencias entre valores consecutivos"
   ]
  },
  {
   "cell_type": "code",
   "execution_count": 10,
   "metadata": {},
   "outputs": [
    {
     "name": "stdout",
     "output_type": "stream",
     "text": [
      "Archivo guardado: WRFPrecip_horario.nc\n"
     ]
    }
   ],
   "source": [
    "# Guardar la variable Ppro desagregada como nuevo NetCDF\n",
    "output_file = os.path.join(\"WRFPrecip_horario.nc\")\n",
    "ppro_hourly.to_netcdf(output_file)\n",
    "print(f\"Archivo guardado: {output_file}\")"
   ]
  }
 ],
 "metadata": {
  "kernelspec": {
   "display_name": "xarray_nc",
   "language": "python",
   "name": "python3"
  },
  "language_info": {
   "codemirror_mode": {
    "name": "ipython",
    "version": 3
   },
   "file_extension": ".py",
   "mimetype": "text/x-python",
   "name": "python",
   "nbconvert_exporter": "python",
   "pygments_lexer": "ipython3",
   "version": "3.11.8"
  }
 },
 "nbformat": 4,
 "nbformat_minor": 2
}
