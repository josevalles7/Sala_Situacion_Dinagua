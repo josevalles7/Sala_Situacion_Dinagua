{
 "cells": [
  {
   "cell_type": "code",
   "execution_count": 1,
   "metadata": {
    "id": "cprcZxBFhsfl"
   },
   "outputs": [],
   "source": [
    "import ipywidgets as widgets\n",
    "import xarray as xr"
   ]
  },
  {
   "cell_type": "code",
   "execution_count": 3,
   "metadata": {
    "id": "CqIYDZLsIDFv"
   },
   "outputs": [
    {
     "ename": "ModuleNotFoundError",
     "evalue": "No module named 'google3'",
     "output_type": "error",
     "traceback": [
      "\u001b[0;31m---------------------------------------------------------------------------\u001b[0m",
      "\u001b[0;31mModuleNotFoundError\u001b[0m                       Traceback (most recent call last)",
      "Cell \u001b[0;32mIn[3], line 1\u001b[0m\n\u001b[0;32m----> 1\u001b[0m \u001b[38;5;28;01mimport\u001b[39;00m \u001b[38;5;21;01mfactor_analysis\u001b[39;00m\n\u001b[1;32m      2\u001b[0m \u001b[38;5;28;01mimport\u001b[39;00m \u001b[38;5;21;01muruguay\u001b[39;00m \u001b[38;5;28;01mas\u001b[39;00m \u001b[38;5;21;01mprovider\u001b[39;00m\n",
      "File \u001b[0;32m~/source_code/factor_analysis.py:30\u001b[0m\n\u001b[1;32m     27\u001b[0m \u001b[38;5;28;01mfrom\u001b[39;00m \u001b[38;5;21;01msklearn\u001b[39;00m\u001b[38;5;21;01m.\u001b[39;00m\u001b[38;5;21;01mensemble\u001b[39;00m \u001b[38;5;28;01mimport\u001b[39;00m RandomForestRegressor\n\u001b[1;32m     28\u001b[0m \u001b[38;5;28;01mimport\u001b[39;00m \u001b[38;5;21;01mxarray\u001b[39;00m \u001b[38;5;28;01mas\u001b[39;00m \u001b[38;5;21;01mxr\u001b[39;00m\n\u001b[0;32m---> 30\u001b[0m \u001b[38;5;28;01mfrom\u001b[39;00m \u001b[38;5;21;01mgoogle3\u001b[39;00m\u001b[38;5;21;01m.\u001b[39;00m\u001b[38;5;21;01mintelligence\u001b[39;00m\u001b[38;5;21;01m.\u001b[39;00m\u001b[38;5;21;01mflood_forecasting\u001b[39;00m\u001b[38;5;21;01m.\u001b[39;00m\u001b[38;5;21;01mhydro_model\u001b[39;00m\u001b[38;5;21;01m.\u001b[39;00m\u001b[38;5;21;01mbasin_attributes\u001b[39;00m \u001b[38;5;28;01mimport\u001b[39;00m attributes_fetcher\n\u001b[1;32m     33\u001b[0m \u001b[38;5;66;03m# Number of regression trees.\u001b[39;00m\n\u001b[1;32m     34\u001b[0m N_TREES \u001b[38;5;241m=\u001b[39m \u001b[38;5;241m10\u001b[39m\n",
      "\u001b[0;31mModuleNotFoundError\u001b[0m: No module named 'google3'"
     ]
    }
   ],
   "source": [
    "import factor_analysis\n",
    "import uruguay as provider"
   ]
  },
  {
   "cell_type": "code",
   "execution_count": 4,
   "metadata": {
    "id": "Nj_9HbLFhgvk"
   },
   "outputs": [
    {
     "ename": "NameError",
     "evalue": "name 'provider' is not defined",
     "output_type": "error",
     "traceback": [
      "\u001b[0;31m---------------------------------------------------------------------------\u001b[0m",
      "\u001b[0;31mNameError\u001b[0m                                 Traceback (most recent call last)",
      "Cell \u001b[0;32mIn[4], line 1\u001b[0m\n\u001b[0;32m----> 1\u001b[0m metrics_file \u001b[38;5;241m=\u001b[39m \u001b[38;5;124mf\u001b[39m\u001b[38;5;124m'\u001b[39m\u001b[38;5;132;01m{\u001b[39;00m\u001b[43mprovider\u001b[49m\u001b[38;5;241m.\u001b[39mEXPERIMENT_RESULTS_PATH\u001b[38;5;132;01m}\u001b[39;00m\u001b[38;5;124m/metrics.nc\u001b[39m\u001b[38;5;124m'\u001b[39m\n\u001b[1;32m      2\u001b[0m \u001b[38;5;28;01mwith\u001b[39;00m \u001b[38;5;28mopen\u001b[39m(metrics_file, \u001b[38;5;124m'\u001b[39m\u001b[38;5;124mrb\u001b[39m\u001b[38;5;124m'\u001b[39m) \u001b[38;5;28;01mas\u001b[39;00m f:\n\u001b[1;32m      3\u001b[0m   metrics_ds \u001b[38;5;241m=\u001b[39m xr\u001b[38;5;241m.\u001b[39mopen_dataset(f)\n",
      "\u001b[0;31mNameError\u001b[0m: name 'provider' is not defined"
     ]
    }
   ],
   "source": [
    "metrics_file = f'{provider.EXPERIMENT_RESULTS_PATH}/metrics.nc'\n",
    "with open(metrics_file, 'rb') as f:\n",
    "  metrics_ds = xr.open_dataset(f)"
   ]
  },
  {
   "cell_type": "code",
   "execution_count": null,
   "metadata": {
    "id": "w-2lSCg_gWFh"
   },
   "outputs": [],
   "source": [
    "experiments = metrics_ds.experiment.values.tolist()\n",
    "gauges = metrics_ds.gauge_id.values.tolist()\n",
    "lead_times = metrics_ds.lead_time.values.tolist()\n",
    "available_metrics = list(metrics_ds.data_vars)"
   ]
  },
  {
   "cell_type": "markdown",
   "metadata": {
    "id": "BDGsO7uAhV8f"
   },
   "source": [
    "# Are Basin Attributes Informative of Forecast Skill?"
   ]
  },
  {
   "cell_type": "code",
   "execution_count": null,
   "metadata": {
    "id": "3u7RtsfLqgJt"
   },
   "outputs": [],
   "source": [
    "@widgets.interact\n",
    "def interactive_score_prediction_leave_one_out(\n",
    "    metric=available_metrics,\n",
    "    lead_time=lead_times,\n",
    "    experiment=experiments,\n",
    "    baseline_experiment=[None]+experiments,\n",
    "):\n",
    "  y_hat, y = factor_analysis.score_prediction_leave_one_out(\n",
    "      attributes_file=provider.ATTRIBUTES_FILE,\n",
    "      metrics_ds=metrics_ds,\n",
    "      experiment=experiment,\n",
    "      baseline_experiment=baseline_experiment,\n",
    "      lead_time=lead_time,\n",
    "      metric=metric,\n",
    "  )\n",
    "  factor_analysis.plot_predicted_skill_scatter(\n",
    "      y=y, y_hat=y_hat,\n",
    "      metric=metric,\n",
    "      experiment=experiment,\n",
    "      baseline_experiment=baseline_experiment\n",
    "  )\n",
    "  return"
   ]
  },
  {
   "cell_type": "markdown",
   "metadata": {
    "id": "sTGzwlIIhcqp"
   },
   "source": [
    "# Which Basin Attributes are Informative of Forecast Skill?"
   ]
  },
  {
   "cell_type": "code",
   "execution_count": null,
   "metadata": {
    "id": "O8v-05Yygmvc"
   },
   "outputs": [],
   "source": [
    "@widgets.interact\n",
    "def interactive_score_prediction_leave_one_out(\n",
    "    metric=available_metrics,\n",
    "    lead_time=lead_times,\n",
    "    experiment=experiments,\n",
    "    baseline_experiment=[None]+experiments,\n",
    "):\n",
    "  importances = factor_analysis.score_prediction_factor_analysis(\n",
    "      attributes_file=provider.ATTRIBUTES_FILE,\n",
    "      metrics_ds=metrics_ds,\n",
    "      experiment=experiment,\n",
    "      baseline_experiment=baseline_experiment,\n",
    "      lead_time=lead_time,\n",
    "      metric=metric,\n",
    "  )\n",
    "  factor_analysis.plot_feature_importances(\n",
    "      importances=importances,\n",
    "      metric=metric,\n",
    "      experiment=experiment,\n",
    "      baseline_experiment=baseline_experiment\n",
    "  )\n",
    "  plt.show()\n",
    "  return"
   ]
  },
  {
   "cell_type": "code",
   "execution_count": null,
   "metadata": {
    "id": "5caUu_EC7pRM"
   },
   "outputs": [],
   "source": [
    "experiment = 'ungauged'\n",
    "lead_time = 0\n",
    "metric = 'KGE'\n",
    "metrics = metrics_ds.sel(\n",
    "    {\n",
    "        'experiment': experiment,\n",
    "        'lead_time': lead_time,\n",
    "    }\n",
    ").to_dataframe()[metric]\n",
    "metrics"
   ]
  },
  {
   "cell_type": "code",
   "execution_count": null,
   "metadata": {
    "id": "GiKr2iu-ORPH"
   },
   "outputs": [],
   "source": [
    "attributes = factor_analysis._get_basin_attributes(metrics.index)[factor_analysis.ATTRIBUTE_DESCRIPTIVE_NAMES.keys()]\n",
    "attributes"
   ]
  },
  {
   "cell_type": "code",
   "execution_count": null,
   "metadata": {
    "id": "rgMiocsbPAYO"
   },
   "outputs": [],
   "source": [
    "attribute_descriptor = 'Population Count'\n",
    "for attribute in attributes:\n",
    "  if attribute_descriptor == factor_analysis.ATTRIBUTE_DESCRIPTIVE_NAMES[attribute]:\n",
    "    break\n",
    "df = pd.concat([metrics, attributes[attribute]], axis=1).dropna()\n",
    "np.corrcoef(df.values.transpose())"
   ]
  },
  {
   "cell_type": "code",
   "execution_count": null,
   "metadata": {
    "id": "tOkz8fHQPrb9"
   },
   "outputs": [],
   "source": []
  }
 ],
 "metadata": {
  "colab": {
   "last_runtime": {
    "build_target": "//intelligence/flood_forecasting/colab:notebook",
    "kind": "shared"
   },
   "private_outputs": true,
   "provenance": [
    {
     "file_id": "1-_eG78h4nWOsbjlmrY1tbRZ7NzABx97O",
     "timestamp": 1721253952700
    }
   ],
   "toc_visible": true
  },
  "kernelspec": {
   "display_name": "Python 3 (ipykernel)",
   "language": "python",
   "name": "python3"
  },
  "language_info": {
   "codemirror_mode": {
    "name": "ipython",
    "version": 3
   },
   "file_extension": ".py",
   "mimetype": "text/x-python",
   "name": "python",
   "nbconvert_exporter": "python",
   "pygments_lexer": "ipython3",
   "version": "3.12.2"
  }
 },
 "nbformat": 4,
 "nbformat_minor": 4
}
