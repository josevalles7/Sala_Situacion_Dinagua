{
 "cells": [
  {
   "cell_type": "markdown",
   "metadata": {
    "id": "JcStC8R5Mosr"
   },
   "source": [
    "This notebook creates gauge groups for different types of experiments for a given provider. Gauge groups are stored as text files and run commands are generated for each gauge group.\n",
    "\n",
    "The experiments currently supported are:\n",
    "* Gauged\n",
    "* Ungauged\n",
    "* Random k-fold cross-validation\n",
    "* Hydrologically-separated cross-validation"
   ]
  },
  {
   "cell_type": "markdown",
   "metadata": {
    "id": "UakwJG5O0_pX"
   },
   "source": [
    "# Imports"
   ]
  },
  {
   "cell_type": "code",
   "execution_count": 1,
   "metadata": {},
   "outputs": [],
   "source": [
    "import json"
   ]
  },
  {
   "cell_type": "code",
   "execution_count": 2,
   "metadata": {
    "id": "ywB9wkj_yUOk"
   },
   "outputs": [],
   "source": [
    "import experiment_definition as utils\n",
    "import uruguay as provider"
   ]
  },
  {
   "cell_type": "markdown",
   "metadata": {
    "id": "n4S4jNoCx_42"
   },
   "source": [
    "# Gauge Groups"
   ]
  },
  {
   "cell_type": "markdown",
   "metadata": {
    "id": "nxTKbPF2-Shw"
   },
   "source": [
    "## Global Gauge Group"
   ]
  },
  {
   "cell_type": "code",
   "execution_count": 3,
   "metadata": {
    "id": "syBou8wE1yOt"
   },
   "outputs": [
    {
     "name": "stdout",
     "output_type": "stream",
     "text": [
      "There are 15277 gauges in the filtered global gauge group.\n"
     ]
    }
   ],
   "source": [
    "global_gauge_group = utils.get_global_model_training_gauge_group_without_provider_country(\n",
    "    gauge_group_file_path=provider.GLOBAL_GAUGE_GROUP_FILE)\n",
    "print(f'There are {len(global_gauge_group)} gauges in the filtered global gauge group.')"
   ]
  },
  {
   "cell_type": "markdown",
   "metadata": {
    "id": "7k0eElQc-VBx"
   },
   "source": [
    "## Provider Gauge Group"
   ]
  },
  {
   "cell_type": "code",
   "execution_count": 4,
   "metadata": {
    "id": "beh_rnBV0WfR"
   },
   "outputs": [
    {
     "name": "stdout",
     "output_type": "stream",
     "text": [
      "There are 19 gauges in the provider train gauge group.\n",
      "There are 19 gauges in the provider test gauge group.\n"
     ]
    }
   ],
   "source": [
    "print(f'There are {len(provider.TRAIN_GAUGES)} gauges in the provider train gauge group.')\n",
    "print(f'There are {len(provider.TEST_GAUGES)} gauges in the provider test gauge group.')"
   ]
  },
  {
   "cell_type": "markdown",
   "metadata": {
    "id": "czKM4f2dj-bb"
   },
   "source": [
    "# Experiment Gauge Groups"
   ]
  },
  {
   "cell_type": "code",
   "execution_count": 5,
   "metadata": {
    "id": "ao4Gx7L2kEIB"
   },
   "outputs": [],
   "source": [
    "experiment_train_gauge_groups = {}\n",
    "experiment_test_gauge_groups = {}"
   ]
  },
  {
   "cell_type": "markdown",
   "metadata": {
    "id": "R-HjaVJ3-e_B"
   },
   "source": [
    "## Fully Gauged Run"
   ]
  },
  {
   "cell_type": "code",
   "execution_count": 6,
   "metadata": {
    "id": "TnztgBWE2gAs"
   },
   "outputs": [
    {
     "name": "stdout",
     "output_type": "stream",
     "text": [
      "There are 15296 gauges in the \"gauged\" train gauge group.\n"
     ]
    }
   ],
   "source": [
    "experiment = 'gauged'\n",
    "experiment_train_gauge_groups[experiment], experiment_test_gauge_groups[experiment] = utils.create_gauged_run_gauge_groups(\n",
    "    global_gauges=global_gauge_group,\n",
    "    train_gauges=provider.TRAIN_GAUGES,\n",
    "    test_gauges=provider.TEST_GAUGES,\n",
    ")\n",
    "print(f'There are {len(experiment_train_gauge_groups[experiment])} gauges in the \"{experiment}\" train gauge group.')"
   ]
  },
  {
   "cell_type": "markdown",
   "metadata": {
    "id": "tiCtO2wEkgai"
   },
   "source": [
    "## Full Ungauged"
   ]
  },
  {
   "cell_type": "code",
   "execution_count": 7,
   "metadata": {
    "id": "NFBjTDDukieN"
   },
   "outputs": [
    {
     "name": "stdout",
     "output_type": "stream",
     "text": [
      "There are 15277 gauges in the \"ungauged\" train gauge group.\n"
     ]
    }
   ],
   "source": [
    "experiment = 'ungauged'\n",
    "experiment_train_gauge_groups[experiment], experiment_test_gauge_groups[experiment] = utils.create_ungauged_run_gauge_groups(\n",
    "    global_gauges=global_gauge_group,\n",
    "    test_gauges=provider.TEST_GAUGES,\n",
    ")\n",
    "print(f'There are {len(experiment_train_gauge_groups[experiment])} gauges in the \"{experiment}\" train gauge group.')"
   ]
  },
  {
   "cell_type": "markdown",
   "metadata": {
    "id": "HEjVj1H_k_C2"
   },
   "source": [
    "## Random Cross Validation"
   ]
  },
  {
   "cell_type": "code",
   "execution_count": 8,
   "metadata": {
    "id": "fx8Lhoj1lBkz"
   },
   "outputs": [
    {
     "name": "stdout",
     "output_type": "stream",
     "text": [
      "There are 15292 gauges in the \"random_cross_validation_fold_fold_0\" train gauge group.\n",
      "There are 15293 gauges in the \"random_cross_validation_fold_fold_1\" train gauge group.\n",
      "There are 15293 gauges in the \"random_cross_validation_fold_fold_2\" train gauge group.\n",
      "There are 15293 gauges in the \"random_cross_validation_fold_fold_3\" train gauge group.\n",
      "There are 15293 gauges in the \"random_cross_validation_fold_fold_4\" train gauge group.\n",
      "There are 15293 gauges in the \"random_cross_validation_fold_fold_5\" train gauge group.\n"
     ]
    }
   ],
   "source": [
    "experiment = 'random_cross_validation'\n",
    "experiment_train_gauge_groups[experiment], experiment_test_gauge_groups[experiment] = utils.create_random_cross_validation_gauge_groups(\n",
    "    global_gauges=global_gauge_group,\n",
    "    train_gauges=provider.TRAIN_GAUGES,\n",
    "    num_cross_validation_folds=provider.NUM_CROSS_VALIDATION_FOLDS,\n",
    ")\n",
    "for fold in experiment_train_gauge_groups[experiment]:\n",
    "  print(f'There are {len(experiment_train_gauge_groups[experiment][fold])} gauges in the \"{experiment}_fold_{fold}\" train gauge group.')"
   ]
  },
  {
   "cell_type": "markdown",
   "metadata": {
    "id": "D8WVmY5RlBsg"
   },
   "source": [
    "## Hydrologically Separated Cross Validation"
   ]
  },
  {
   "cell_type": "code",
   "execution_count": 9,
   "metadata": {
    "id": "o_QnwWMuVPDO"
   },
   "outputs": [
    {
     "name": "stdout",
     "output_type": "stream",
     "text": [
      "There are 15294 gauges in the \"hydrologically_separated_cross_validation_fold_52\" train gauge group.\n",
      "There are 15294 gauges in the \"hydrologically_separated_cross_validation_fold_46_1\" train gauge group.\n",
      "There are 15292 gauges in the \"hydrologically_separated_cross_validation_fold_44\" train gauge group.\n",
      "There are 15294 gauges in the \"hydrologically_separated_cross_validation_fold_28\" train gauge group.\n",
      "There are 15293 gauges in the \"hydrologically_separated_cross_validation_fold_2215\" train gauge group.\n",
      "There are 15294 gauges in the \"hydrologically_separated_cross_validation_fold_14\" train gauge group.\n",
      "There are 15295 gauges in the \"hydrologically_separated_cross_validation_fold_71_0\" train gauge group.\n",
      "There are 15295 gauges in the \"hydrologically_separated_cross_validation_fold_97\" train gauge group.\n",
      "There are 15295 gauges in the \"hydrologically_separated_cross_validation_fold_10_1\" train gauge group.\n",
      "There are 15295 gauges in the \"hydrologically_separated_cross_validation_fold_176_1\" train gauge group.\n"
     ]
    }
   ],
   "source": [
    "experiment = 'hydrologically_separated_cross_validation'\n",
    "experiment_train_gauge_groups[experiment], experiment_test_gauge_groups[experiment] = utils.create_hydrography_separated_cross_validation_gauge_groups(\n",
    "    global_gauges=global_gauge_group,\n",
    "    train_gauges=provider.TRAIN_GAUGES,\n",
    "    graph_crossval_split_to_gauge_mapping=provider.GRAPH_CROSSVAL_SPLIT_TO_GAUGE_MAPPING\n",
    ")\n",
    "for fold in experiment_train_gauge_groups[experiment]:\n",
    "  print(f'There are {len(experiment_train_gauge_groups[experiment][fold])} gauges in the \"{experiment}_{fold}\" train gauge group.')"
   ]
  },
  {
   "cell_type": "markdown",
   "metadata": {
    "id": "fGJsLZMiVzgh"
   },
   "source": [
    "# Save Gauge Groups"
   ]
  },
  {
   "cell_type": "code",
   "execution_count": 10,
   "metadata": {
    "id": "mOf5J0-hIe8D"
   },
   "outputs": [],
   "source": [
    "# Please don't overwrite the gauge groups that we actually used for the experiments!!!!\n",
    "OVERWRITE_EXISTING_GAUGE_GROUPS = False\n",
    "\n",
    "# if os.path.exists(provider.CNS_GAUGE_GROUP_PATH) and OVERWRITE_EXISTING_GAUGE_GROUPS:\n",
    "#   gfile.DeleteRecursively(provider.CNS_GAUGE_GROUP_PATH)\n",
    "\n",
    "# if not os.path.exists(provider.CNS_GAUGE_GROUP_PATH):\n",
    "#   gfile.MakeDirs(provider.CNS_GAUGE_GROUP_PATH)\n",
    "\n",
    "#   # Save train and test gauge groups.\n",
    "#   utils.save_all_experiment_gauge_groups_as_text_files(\n",
    "#       experiment_train_gauge_groups=experiment_train_gauge_groups,\n",
    "#       provider=provider.PREFIX,\n",
    "#       base_path=provider.CNS_GAUGE_GROUP_PATH,\n",
    "#   )\n",
    "#   utils.save_test_gauge_group_as_text_file(\n",
    "#       test_gauges=provider.TEST_GAUGES,\n",
    "#       provider=provider.PREFIX,\n",
    "#       base_path=provider.CNS_GAUGE_GROUP_PATH,\n",
    "#   )"
   ]
  },
  {
   "cell_type": "markdown",
   "metadata": {
    "id": "Bgo0KQ_2DTVj"
   },
   "source": [
    "# Cross Validation Mapping"
   ]
  },
  {
   "cell_type": "code",
   "execution_count": 11,
   "metadata": {
    "id": "ZGJDvJdLxZuS"
   },
   "outputs": [],
   "source": [
    "# Create a mapping from gauges to model runs, so that we can later pull the\n",
    "gauge_to_model_path = utils.create_test_gauge_to_model_path_mapping(\n",
    "    all_test_gauges=provider.TEST_GAUGES,\n",
    "    experiment_test_gauge_groups=experiment_test_gauge_groups,\n",
    "    base_path=provider.MODEL_RUN_DIRECTORY,\n",
    ")\n",
    "\n",
    "# Save mapping.\n",
    "with open(provider.GAUGE_TO_MODEL_PATH_MAPPING_FILE, 'w') as f:\n",
    "  json.dump(gauge_to_model_path, f)"
   ]
  },
  {
   "cell_type": "markdown",
   "metadata": {
    "id": "HmwweU8yYdo3"
   },
   "source": [
    "# Run Commands\n",
    "This creates run commands for launching the model training and testing pipeline.\n",
    "\n",
    "This is only relevant internally at Google."
   ]
  },
  {
   "cell_type": "code",
   "execution_count": 12,
   "metadata": {
    "id": "414rLJFhYfze"
   },
   "outputs": [],
   "source": [
    "template_run_command = 'blaze run --run_under=\"cd $PWD &&\" -c \\\n",
    "      opt intelligence/flood_forecasting/hydro_model/training_pipeline:xmanager_launch \\\n",
    "      -- --xm_resource_pool=research-training \\\n",
    "      --xm_resource_alloc=research-training/karmel-tpu \\\n",
    "      --setup_name=lstm_mean_embedding_ungauged_compatible \\\n",
    "      --keep_split_margin=True \\\n",
    "      --run_inference_on_training_dataset=False  \\\n",
    "      --xmanager_config=global_model \\\n",
    "      --xm_enable_build_isolation \\\n",
    "      --gfs_user=flood-forecasting-dev \\\n",
    "      --flags=\"target_gauge_group={train_gauge_group}, ungauged_gauge_group={test_gauge_group}\" \\\n",
    "      --output_path={output_path}'\n",
    "\n",
    "def create_run_command(\n",
    "    experiment: str,\n",
    "    split: str | None = None,\n",
    ") -> str:\n",
    "  train_gauge_group = utils.get_gauge_group_name(\n",
    "      experiment=experiment,\n",
    "      provider=provider.PREFIX,\n",
    "      split=split,\n",
    "  )\n",
    "  train_gauge_group = f'wmo_pilot_only_{train_gauge_group}'\n",
    "  test_gauge_group = utils.get_gauge_group_name(\n",
    "      experiment=utils.TEST_GAUGE_GROUP_NAME,\n",
    "      provider=provider.PREFIX,\n",
    "  )\n",
    "  test_gauge_group = f'wmo_pilot_only_{test_gauge_group}'\n",
    "  output_path = utils.model_path_for_gauge_group(\n",
    "      experiment=experiment,\n",
    "      base_model_run_directory=provider.MODEL_RUN_DIRECTORY,\n",
    "      split=split\n",
    "  )\n",
    "  return template_run_command.format(\n",
    "      train_gauge_group=train_gauge_group,\n",
    "      test_gauge_group=test_gauge_group,\n",
    "      output_path=output_path,\n",
    "  )"
   ]
  },
  {
   "cell_type": "code",
   "execution_count": 13,
   "metadata": {
    "id": "v0AfVHVyev-K"
   },
   "outputs": [
    {
     "name": "stdout",
     "output_type": "stream",
     "text": [
      "'blaze run --run_under=\"cd $PWD &&\" -c       opt intelligence/flood_forecasting/hydro_model/training_pipeline:xmanager_launch       -- --xm_resource_pool=research-training       --xm_resource_alloc=research-training/karmel-tpu       --setup_name=lstm_mean_embedding_ungauged_compatible       --keep_split_margin=True       --run_inference_on_training_dataset=False        --xmanager_config=global_model       --xm_enable_build_isolation       --gfs_user=flood-forecasting-dev       --flags=\"target_gauge_group=wmo_pilot_only_DNAUY_gauged, ungauged_gauge_group=wmo_pilot_only_DNAUY_all_gauges\"       --output_path=/home/gsnearing/data/model_runs/gauged'\n",
      "'blaze run --run_under=\"cd $PWD &&\" -c       opt intelligence/flood_forecasting/hydro_model/training_pipeline:xmanager_launch       -- --xm_resource_pool=research-training       --xm_resource_alloc=research-training/karmel-tpu       --setup_name=lstm_mean_embedding_ungauged_compatible       --keep_split_margin=True       --run_inference_on_training_dataset=False        --xmanager_config=global_model       --xm_enable_build_isolation       --gfs_user=flood-forecasting-dev       --flags=\"target_gauge_group=wmo_pilot_only_DNAUY_ungauged, ungauged_gauge_group=wmo_pilot_only_DNAUY_all_gauges\"       --output_path=/home/gsnearing/data/model_runs/ungauged'\n",
      "'blaze run --run_under=\"cd $PWD &&\" -c       opt intelligence/flood_forecasting/hydro_model/training_pipeline:xmanager_launch       -- --xm_resource_pool=research-training       --xm_resource_alloc=research-training/karmel-tpu       --setup_name=lstm_mean_embedding_ungauged_compatible       --keep_split_margin=True       --run_inference_on_training_dataset=False        --xmanager_config=global_model       --xm_enable_build_isolation       --gfs_user=flood-forecasting-dev       --flags=\"target_gauge_group=wmo_pilot_only_DNAUY_random_cross_validation_fold_0, ungauged_gauge_group=wmo_pilot_only_DNAUY_all_gauges\"       --output_path=/home/gsnearing/data/model_runs/random_cross_validation/fold_0'\n",
      "'blaze run --run_under=\"cd $PWD &&\" -c       opt intelligence/flood_forecasting/hydro_model/training_pipeline:xmanager_launch       -- --xm_resource_pool=research-training       --xm_resource_alloc=research-training/karmel-tpu       --setup_name=lstm_mean_embedding_ungauged_compatible       --keep_split_margin=True       --run_inference_on_training_dataset=False        --xmanager_config=global_model       --xm_enable_build_isolation       --gfs_user=flood-forecasting-dev       --flags=\"target_gauge_group=wmo_pilot_only_DNAUY_random_cross_validation_fold_1, ungauged_gauge_group=wmo_pilot_only_DNAUY_all_gauges\"       --output_path=/home/gsnearing/data/model_runs/random_cross_validation/fold_1'\n",
      "'blaze run --run_under=\"cd $PWD &&\" -c       opt intelligence/flood_forecasting/hydro_model/training_pipeline:xmanager_launch       -- --xm_resource_pool=research-training       --xm_resource_alloc=research-training/karmel-tpu       --setup_name=lstm_mean_embedding_ungauged_compatible       --keep_split_margin=True       --run_inference_on_training_dataset=False        --xmanager_config=global_model       --xm_enable_build_isolation       --gfs_user=flood-forecasting-dev       --flags=\"target_gauge_group=wmo_pilot_only_DNAUY_random_cross_validation_fold_2, ungauged_gauge_group=wmo_pilot_only_DNAUY_all_gauges\"       --output_path=/home/gsnearing/data/model_runs/random_cross_validation/fold_2'\n",
      "'blaze run --run_under=\"cd $PWD &&\" -c       opt intelligence/flood_forecasting/hydro_model/training_pipeline:xmanager_launch       -- --xm_resource_pool=research-training       --xm_resource_alloc=research-training/karmel-tpu       --setup_name=lstm_mean_embedding_ungauged_compatible       --keep_split_margin=True       --run_inference_on_training_dataset=False        --xmanager_config=global_model       --xm_enable_build_isolation       --gfs_user=flood-forecasting-dev       --flags=\"target_gauge_group=wmo_pilot_only_DNAUY_random_cross_validation_fold_3, ungauged_gauge_group=wmo_pilot_only_DNAUY_all_gauges\"       --output_path=/home/gsnearing/data/model_runs/random_cross_validation/fold_3'\n",
      "'blaze run --run_under=\"cd $PWD &&\" -c       opt intelligence/flood_forecasting/hydro_model/training_pipeline:xmanager_launch       -- --xm_resource_pool=research-training       --xm_resource_alloc=research-training/karmel-tpu       --setup_name=lstm_mean_embedding_ungauged_compatible       --keep_split_margin=True       --run_inference_on_training_dataset=False        --xmanager_config=global_model       --xm_enable_build_isolation       --gfs_user=flood-forecasting-dev       --flags=\"target_gauge_group=wmo_pilot_only_DNAUY_random_cross_validation_fold_4, ungauged_gauge_group=wmo_pilot_only_DNAUY_all_gauges\"       --output_path=/home/gsnearing/data/model_runs/random_cross_validation/fold_4'\n",
      "'blaze run --run_under=\"cd $PWD &&\" -c       opt intelligence/flood_forecasting/hydro_model/training_pipeline:xmanager_launch       -- --xm_resource_pool=research-training       --xm_resource_alloc=research-training/karmel-tpu       --setup_name=lstm_mean_embedding_ungauged_compatible       --keep_split_margin=True       --run_inference_on_training_dataset=False        --xmanager_config=global_model       --xm_enable_build_isolation       --gfs_user=flood-forecasting-dev       --flags=\"target_gauge_group=wmo_pilot_only_DNAUY_random_cross_validation_fold_5, ungauged_gauge_group=wmo_pilot_only_DNAUY_all_gauges\"       --output_path=/home/gsnearing/data/model_runs/random_cross_validation/fold_5'\n",
      "'blaze run --run_under=\"cd $PWD &&\" -c       opt intelligence/flood_forecasting/hydro_model/training_pipeline:xmanager_launch       -- --xm_resource_pool=research-training       --xm_resource_alloc=research-training/karmel-tpu       --setup_name=lstm_mean_embedding_ungauged_compatible       --keep_split_margin=True       --run_inference_on_training_dataset=False        --xmanager_config=global_model       --xm_enable_build_isolation       --gfs_user=flood-forecasting-dev       --flags=\"target_gauge_group=wmo_pilot_only_DNAUY_hydrologically_separated_cross_validation_fold_52, ungauged_gauge_group=wmo_pilot_only_DNAUY_all_gauges\"       --output_path=/home/gsnearing/data/model_runs/hydrologically_separated_cross_validation/fold_52'\n",
      "'blaze run --run_under=\"cd $PWD &&\" -c       opt intelligence/flood_forecasting/hydro_model/training_pipeline:xmanager_launch       -- --xm_resource_pool=research-training       --xm_resource_alloc=research-training/karmel-tpu       --setup_name=lstm_mean_embedding_ungauged_compatible       --keep_split_margin=True       --run_inference_on_training_dataset=False        --xmanager_config=global_model       --xm_enable_build_isolation       --gfs_user=flood-forecasting-dev       --flags=\"target_gauge_group=wmo_pilot_only_DNAUY_hydrologically_separated_cross_validation_fold_46_1, ungauged_gauge_group=wmo_pilot_only_DNAUY_all_gauges\"       --output_path=/home/gsnearing/data/model_runs/hydrologically_separated_cross_validation/fold_46_1'\n",
      "'blaze run --run_under=\"cd $PWD &&\" -c       opt intelligence/flood_forecasting/hydro_model/training_pipeline:xmanager_launch       -- --xm_resource_pool=research-training       --xm_resource_alloc=research-training/karmel-tpu       --setup_name=lstm_mean_embedding_ungauged_compatible       --keep_split_margin=True       --run_inference_on_training_dataset=False        --xmanager_config=global_model       --xm_enable_build_isolation       --gfs_user=flood-forecasting-dev       --flags=\"target_gauge_group=wmo_pilot_only_DNAUY_hydrologically_separated_cross_validation_fold_44, ungauged_gauge_group=wmo_pilot_only_DNAUY_all_gauges\"       --output_path=/home/gsnearing/data/model_runs/hydrologically_separated_cross_validation/fold_44'\n",
      "'blaze run --run_under=\"cd $PWD &&\" -c       opt intelligence/flood_forecasting/hydro_model/training_pipeline:xmanager_launch       -- --xm_resource_pool=research-training       --xm_resource_alloc=research-training/karmel-tpu       --setup_name=lstm_mean_embedding_ungauged_compatible       --keep_split_margin=True       --run_inference_on_training_dataset=False        --xmanager_config=global_model       --xm_enable_build_isolation       --gfs_user=flood-forecasting-dev       --flags=\"target_gauge_group=wmo_pilot_only_DNAUY_hydrologically_separated_cross_validation_fold_28, ungauged_gauge_group=wmo_pilot_only_DNAUY_all_gauges\"       --output_path=/home/gsnearing/data/model_runs/hydrologically_separated_cross_validation/fold_28'\n",
      "'blaze run --run_under=\"cd $PWD &&\" -c       opt intelligence/flood_forecasting/hydro_model/training_pipeline:xmanager_launch       -- --xm_resource_pool=research-training       --xm_resource_alloc=research-training/karmel-tpu       --setup_name=lstm_mean_embedding_ungauged_compatible       --keep_split_margin=True       --run_inference_on_training_dataset=False        --xmanager_config=global_model       --xm_enable_build_isolation       --gfs_user=flood-forecasting-dev       --flags=\"target_gauge_group=wmo_pilot_only_DNAUY_hydrologically_separated_cross_validation_fold_2215, ungauged_gauge_group=wmo_pilot_only_DNAUY_all_gauges\"       --output_path=/home/gsnearing/data/model_runs/hydrologically_separated_cross_validation/fold_2215'\n",
      "'blaze run --run_under=\"cd $PWD &&\" -c       opt intelligence/flood_forecasting/hydro_model/training_pipeline:xmanager_launch       -- --xm_resource_pool=research-training       --xm_resource_alloc=research-training/karmel-tpu       --setup_name=lstm_mean_embedding_ungauged_compatible       --keep_split_margin=True       --run_inference_on_training_dataset=False        --xmanager_config=global_model       --xm_enable_build_isolation       --gfs_user=flood-forecasting-dev       --flags=\"target_gauge_group=wmo_pilot_only_DNAUY_hydrologically_separated_cross_validation_fold_14, ungauged_gauge_group=wmo_pilot_only_DNAUY_all_gauges\"       --output_path=/home/gsnearing/data/model_runs/hydrologically_separated_cross_validation/fold_14'\n",
      "'blaze run --run_under=\"cd $PWD &&\" -c       opt intelligence/flood_forecasting/hydro_model/training_pipeline:xmanager_launch       -- --xm_resource_pool=research-training       --xm_resource_alloc=research-training/karmel-tpu       --setup_name=lstm_mean_embedding_ungauged_compatible       --keep_split_margin=True       --run_inference_on_training_dataset=False        --xmanager_config=global_model       --xm_enable_build_isolation       --gfs_user=flood-forecasting-dev       --flags=\"target_gauge_group=wmo_pilot_only_DNAUY_hydrologically_separated_cross_validation_fold_71_0, ungauged_gauge_group=wmo_pilot_only_DNAUY_all_gauges\"       --output_path=/home/gsnearing/data/model_runs/hydrologically_separated_cross_validation/fold_71_0'\n",
      "'blaze run --run_under=\"cd $PWD &&\" -c       opt intelligence/flood_forecasting/hydro_model/training_pipeline:xmanager_launch       -- --xm_resource_pool=research-training       --xm_resource_alloc=research-training/karmel-tpu       --setup_name=lstm_mean_embedding_ungauged_compatible       --keep_split_margin=True       --run_inference_on_training_dataset=False        --xmanager_config=global_model       --xm_enable_build_isolation       --gfs_user=flood-forecasting-dev       --flags=\"target_gauge_group=wmo_pilot_only_DNAUY_hydrologically_separated_cross_validation_fold_97, ungauged_gauge_group=wmo_pilot_only_DNAUY_all_gauges\"       --output_path=/home/gsnearing/data/model_runs/hydrologically_separated_cross_validation/fold_97'\n",
      "'blaze run --run_under=\"cd $PWD &&\" -c       opt intelligence/flood_forecasting/hydro_model/training_pipeline:xmanager_launch       -- --xm_resource_pool=research-training       --xm_resource_alloc=research-training/karmel-tpu       --setup_name=lstm_mean_embedding_ungauged_compatible       --keep_split_margin=True       --run_inference_on_training_dataset=False        --xmanager_config=global_model       --xm_enable_build_isolation       --gfs_user=flood-forecasting-dev       --flags=\"target_gauge_group=wmo_pilot_only_DNAUY_hydrologically_separated_cross_validation_fold_10_1, ungauged_gauge_group=wmo_pilot_only_DNAUY_all_gauges\"       --output_path=/home/gsnearing/data/model_runs/hydrologically_separated_cross_validation/fold_10_1'\n",
      "'blaze run --run_under=\"cd $PWD &&\" -c       opt intelligence/flood_forecasting/hydro_model/training_pipeline:xmanager_launch       -- --xm_resource_pool=research-training       --xm_resource_alloc=research-training/karmel-tpu       --setup_name=lstm_mean_embedding_ungauged_compatible       --keep_split_margin=True       --run_inference_on_training_dataset=False        --xmanager_config=global_model       --xm_enable_build_isolation       --gfs_user=flood-forecasting-dev       --flags=\"target_gauge_group=wmo_pilot_only_DNAUY_hydrologically_separated_cross_validation_fold_176_1, ungauged_gauge_group=wmo_pilot_only_DNAUY_all_gauges\"       --output_path=/home/gsnearing/data/model_runs/hydrologically_separated_cross_validation/fold_176_1'\n"
     ]
    }
   ],
   "source": [
    "for experiment, gauges_or_split in experiment_train_gauge_groups.items():\n",
    "  if experiment == 'leave_one_out_cross_validation':\n",
    "    continue\n",
    "  if type(gauges_or_split) == dict:\n",
    "    for split, gauges in gauges_or_split.items():\n",
    "      run_command = create_run_command(\n",
    "          experiment=experiment,\n",
    "          split=split,\n",
    "      )\n",
    "      print(\"'\" + run_command + \"'\")\n",
    "  else:\n",
    "    run_command = create_run_command(experiment=experiment)\n",
    "    print(\"'\" + run_command + \"'\")"
   ]
  },
  {
   "cell_type": "code",
   "execution_count": null,
   "metadata": {
    "id": "pp6QhKD60E4E"
   },
   "outputs": [],
   "source": []
  }
 ],
 "metadata": {
  "colab": {
   "last_runtime": {
    "build_target": "//intelligence/flood_forecasting/colab:notebook",
    "kind": "shared"
   },
   "private_outputs": true,
   "provenance": [
    {
     "file_id": "1gqaf_T_ge1iE_dxaHs_z483DTtkHc95n",
     "timestamp": 1720809211628
    },
    {
     "file_id": "1EYPGf2rf6vluAlOjwJqo2qk3noilQyaZ",
     "timestamp": 1715281825331
    }
   ]
  },
  "kernelspec": {
   "display_name": "Python 3 (ipykernel)",
   "language": "python",
   "name": "python3"
  },
  "language_info": {
   "codemirror_mode": {
    "name": "ipython",
    "version": 3
   },
   "file_extension": ".py",
   "mimetype": "text/x-python",
   "name": "python",
   "nbconvert_exporter": "python",
   "pygments_lexer": "ipython3",
   "version": "3.12.4"
  }
 },
 "nbformat": 4,
 "nbformat_minor": 4
}
