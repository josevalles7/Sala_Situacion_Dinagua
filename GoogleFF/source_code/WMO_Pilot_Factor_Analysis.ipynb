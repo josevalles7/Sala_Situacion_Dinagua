{
 "cells": [
  {
   "cell_type": "code",
   "execution_count": 1,
   "metadata": {
    "id": "cprcZxBFhsfl"
   },
   "outputs": [],
   "source": [
    "import ipywidgets as widgets\n",
    "import matplotlib.pyplot as plt\n",
    "import xarray as xr"
   ]
  },
  {
   "cell_type": "code",
   "execution_count": 2,
   "metadata": {
    "id": "CqIYDZLsIDFv"
   },
   "outputs": [],
   "source": [
    "import factor_analysis\n",
    "import uruguay as provider"
   ]
  },
  {
   "cell_type": "code",
   "execution_count": 3,
   "metadata": {
    "id": "Nj_9HbLFhgvk"
   },
   "outputs": [],
   "source": [
    "metrics_file = f'{provider.EXPERIMENT_RESULTS_PATH}/metrics.nc'\n",
    "with open(metrics_file, 'rb') as f:\n",
    "  metrics_ds = xr.open_dataset(f)"
   ]
  },
  {
   "cell_type": "code",
   "execution_count": 4,
   "metadata": {
    "id": "w-2lSCg_gWFh"
   },
   "outputs": [],
   "source": [
    "experiments = metrics_ds.experiment.values.tolist()\n",
    "gauges = metrics_ds.gauge_id.values.tolist()\n",
    "lead_times = metrics_ds.lead_time.values.tolist()\n",
    "available_metrics = list(metrics_ds.data_vars)"
   ]
  },
  {
   "cell_type": "markdown",
   "metadata": {
    "id": "BDGsO7uAhV8f"
   },
   "source": [
    "# Are Basin Attributes Informative of Forecast Skill?"
   ]
  },
  {
   "cell_type": "code",
   "execution_count": 5,
   "metadata": {
    "id": "3u7RtsfLqgJt"
   },
   "outputs": [
    {
     "data": {
      "application/vnd.jupyter.widget-view+json": {
       "model_id": "2a43f9c2f7cb48abbcd84a18219894fb",
       "version_major": 2,
       "version_minor": 0
      },
      "text/plain": [
       "interactive(children=(Dropdown(description='metric', options=('MSE', 'RMSE', 'NSE', 'log-NSE', 'Beta-NSE', 'Al…"
      ]
     },
     "metadata": {},
     "output_type": "display_data"
    }
   ],
   "source": [
    "@widgets.interact\n",
    "def interactive_score_prediction_leave_one_out(\n",
    "    metric=available_metrics,\n",
    "    lead_time=lead_times,\n",
    "    experiment=experiments,\n",
    "    baseline_experiment=[None]+experiments,\n",
    "):\n",
    "  y_hat, y = factor_analysis.score_prediction_leave_one_out(\n",
    "      attributes_file=provider.ATTRIBUTES_FILE,\n",
    "      metrics_ds=metrics_ds,\n",
    "      experiment=experiment,\n",
    "      baseline_experiment=baseline_experiment,\n",
    "      lead_time=lead_time,\n",
    "      metric=metric,\n",
    "  )\n",
    "  factor_analysis.plot_predicted_skill_scatter(\n",
    "      y=y, y_hat=y_hat,\n",
    "      metric=metric,\n",
    "      experiment=experiment,\n",
    "      baseline_experiment=baseline_experiment\n",
    "  )\n",
    "  return"
   ]
  },
  {
   "cell_type": "markdown",
   "metadata": {
    "id": "sTGzwlIIhcqp"
   },
   "source": [
    "# Which Basin Attributes are Informative of Forecast Skill?"
   ]
  },
  {
   "cell_type": "code",
   "execution_count": 6,
   "metadata": {
    "id": "O8v-05Yygmvc"
   },
   "outputs": [
    {
     "data": {
      "application/vnd.jupyter.widget-view+json": {
       "model_id": "c9ec306f09cb4024b197d8fc0b662472",
       "version_major": 2,
       "version_minor": 0
      },
      "text/plain": [
       "interactive(children=(Dropdown(description='metric', options=('MSE', 'RMSE', 'NSE', 'log-NSE', 'Beta-NSE', 'Al…"
      ]
     },
     "metadata": {},
     "output_type": "display_data"
    }
   ],
   "source": [
    "@widgets.interact\n",
    "def interactive_score_prediction_leave_one_out(\n",
    "    metric=available_metrics,\n",
    "    lead_time=lead_times,\n",
    "    experiment=experiments,\n",
    "    baseline_experiment=[None]+experiments,\n",
    "):\n",
    "  importances = factor_analysis.score_prediction_factor_analysis(\n",
    "      attributes_file=provider.ATTRIBUTES_FILE,\n",
    "      metrics_ds=metrics_ds,\n",
    "      experiment=experiment,\n",
    "      baseline_experiment=baseline_experiment,\n",
    "      lead_time=lead_time,\n",
    "      metric=metric,\n",
    "  )\n",
    "  factor_analysis.plot_feature_importances(\n",
    "      importances=importances,\n",
    "      metric=metric,\n",
    "      experiment=experiment,\n",
    "      baseline_experiment=baseline_experiment\n",
    "  )\n",
    "  plt.show()\n",
    "  return"
   ]
  },
  {
   "cell_type": "code",
   "execution_count": null,
   "metadata": {
    "id": "tOkz8fHQPrb9"
   },
   "outputs": [],
   "source": []
  }
 ],
 "metadata": {
  "colab": {
   "last_runtime": {
    "build_target": "//intelligence/flood_forecasting/colab:notebook",
    "kind": "shared"
   },
   "private_outputs": true,
   "provenance": [
    {
     "file_id": "1-_eG78h4nWOsbjlmrY1tbRZ7NzABx97O",
     "timestamp": 1721253952700
    }
   ],
   "toc_visible": true
  },
  "kernelspec": {
   "display_name": "Python 3 (ipykernel)",
   "language": "python",
   "name": "python3"
  },
  "language_info": {
   "codemirror_mode": {
    "name": "ipython",
    "version": 3
   },
   "file_extension": ".py",
   "mimetype": "text/x-python",
   "name": "python",
   "nbconvert_exporter": "python",
   "pygments_lexer": "ipython3",
   "version": "3.11.9"
  }
 },
 "nbformat": 4,
 "nbformat_minor": 4
}
